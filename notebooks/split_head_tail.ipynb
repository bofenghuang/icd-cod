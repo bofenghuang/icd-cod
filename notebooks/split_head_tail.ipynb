{
 "cells": [
  {
   "cell_type": "code",
   "execution_count": 1,
   "id": "2d0fb72b-4253-4e49-9f53-0e68cda38c70",
   "metadata": {},
   "outputs": [],
   "source": [
    "import os\n",
    "\n",
    "os.environ[\"HF_HOME\"] = \"/projects/bhuang/.cache/huggingface\"\n",
    "# os.environ[\"OMP_NUM_THREADS\"] = \"1\"\n",
    "os.environ[\"TOKENIZERS_PARALLELISM\"] = \"false\""
   ]
  },
  {
   "cell_type": "code",
   "execution_count": 10,
   "id": "def45a34-3194-4633-86e6-60e3ea2cdef5",
   "metadata": {},
   "outputs": [],
   "source": [
    "import numpy as np\n",
    "import pandas as pd\n",
    "from datasets import Dataset, load_dataset"
   ]
  },
  {
   "cell_type": "code",
   "execution_count": 3,
   "id": "806c0d8c-e62b-455e-b537-43f0879b205a",
   "metadata": {},
   "outputs": [
    {
     "name": "stderr",
     "output_type": "stream",
     "text": [
      "Generating train split: 10000 examples [00:00, 129206.58 examples/s]\n",
      "Generating validation split: 1000 examples [00:00, 112261.23 examples/s]\n",
      "Generating test split: 1000 examples [00:00, 99589.32 examples/s]\n"
     ]
    },
    {
     "data": {
      "text/plain": [
       "DatasetDict({\n",
       "    train: Dataset({\n",
       "        features: ['labels', 'text', 'has_diso'],\n",
       "        num_rows: 10000\n",
       "    })\n",
       "    validation: Dataset({\n",
       "        features: ['labels', 'text', 'has_diso'],\n",
       "        num_rows: 1000\n",
       "    })\n",
       "    test: Dataset({\n",
       "        features: ['labels', 'text', 'has_diso'],\n",
       "        num_rows: 1000\n",
       "    })\n",
       "})"
      ]
     },
     "execution_count": 3,
     "metadata": {},
     "output_type": "execute_result"
    }
   ],
   "source": [
    "input_files = {\n",
    "    # \"train\": \"/home/bhuang/icd_10/data/synthetic/synthetic-mistral_large_instruct_2407-240909-processed-train.jsonl\",\n",
    "    \"train\": \"/home/bhuang/icd_10/data/synthetic/synthetic-mistral_large_instruct_2407-240909-processed-train-10k.jsonl\",\n",
    "    \"validation\": \"/home/bhuang/icd_10/data/synthetic/synthetic-mistral_large_instruct_2407-240909-processed-validation.jsonl\",\n",
    "    \"test\": \"/home/bhuang/icd_10/data/synthetic/synthetic-mistral_large_instruct_2407-240909-processed-test.jsonl\",\n",
    "    # \"validation\": \"/home/bhuang/icd_10/data/synthetic/synthetic-mistral_large_instruct_2407-240913-processed-validation.jsonl\",\n",
    "    # \"test\": \"/home/bhuang/icd_10/data/synthetic/synthetic-mistral_large_instruct_2407-240913-processed-test.jsonl\",\n",
    "}\n",
    "\n",
    "dataset = load_dataset(\"json\", data_files=input_files)\n",
    "dataset"
   ]
  },
  {
   "cell_type": "code",
   "execution_count": 4,
   "id": "7b3d4277-1133-44c1-b646-e49ffed365db",
   "metadata": {},
   "outputs": [],
   "source": [
    "train_dataset = dataset[\"train\"]\n",
    "# flatten\n",
    "train_total_labels = sum(train_dataset[\"labels\"], [])\n",
    "# overall label frequecies\n",
    "uniques, counts = np.unique(train_total_labels, return_counts=True)"
   ]
  },
  {
   "cell_type": "code",
   "execution_count": 5,
   "id": "f4fa2134-489e-4538-876b-4cab37517d4a",
   "metadata": {},
   "outputs": [
    {
     "data": {
      "text/plain": [
       "[58, 390, 543]"
      ]
     },
     "execution_count": 5,
     "metadata": {},
     "output_type": "execute_result"
    }
   ],
   "source": [
    "# split labels into head/mid/tail\n",
    "labels_dict = {\"head\": set(), \"medium\": set(), \"tail\": set()}\n",
    "\n",
    "for u, c in zip(uniques, counts):\n",
    "    if c >= 100:\n",
    "        labels_dict[\"head\"].add(u)\n",
    "    if 20 <= c < 100:\n",
    "        labels_dict[\"medium\"].add(u)\n",
    "    else:\n",
    "        labels_dict[\"tail\"].add(u)\n",
    "\n",
    "[len(v) for v in labels_dict.values()]"
   ]
  },
  {
   "cell_type": "code",
   "execution_count": null,
   "id": "33475a8d-924e-46a7-b325-fd140272f4ce",
   "metadata": {},
   "outputs": [],
   "source": []
  },
  {
   "cell_type": "code",
   "execution_count": null,
   "id": "4a0ffac9-c63c-4fa3-9b76-6440c6406dad",
   "metadata": {},
   "outputs": [],
   "source": [
    "# num of examples containing head/mid/tail labels\n",
    "for name, labels in labels_dict.items():\n",
    "    ds_ = train_dataset.filter(\n",
    "        lambda x: any(l in labels for l in x[\"labels\"]), num_proc=32\n",
    "    )\n",
    "    print(ds_.num_rows)"
   ]
  },
  {
   "cell_type": "code",
   "execution_count": null,
   "id": "08bcc53c-bb94-4b0b-a5a1-08983aa4d574",
   "metadata": {},
   "outputs": [],
   "source": [
    "# split valid set\n",
    "valid_dataset = dataset[\"validation\"]\n",
    "\n",
    "for name, labels in labels_dict.items():\n",
    "    # todo: any or all\n",
    "    ds_ = valid_dataset.filter(\n",
    "        lambda x: any(l in labels for l in x[\"labels\"]), num_proc=32\n",
    "    )\n",
    "    print(ds_.num_rows)\n",
    "\n",
    "    output_file = f\"/home/bhuang/icd_10/data/synthetic/synthetic-mistral_large_instruct_2407-240909-processed-validation-{name}.jsonl\"\n",
    "    ds_.to_json(output_file, orient=\"records\", lines=True, force_ascii=False)"
   ]
  },
  {
   "cell_type": "code",
   "execution_count": null,
   "id": "ce163b24-3f92-483b-9a44-8bb38ae4198f",
   "metadata": {},
   "outputs": [],
   "source": [
    "# split test set\n",
    "test_dataset = dataset[\"test\"]\n",
    "\n",
    "for name, labels in labels_dict.items():\n",
    "    # todo: any or all\n",
    "    ds_ = test_dataset.filter(\n",
    "        lambda x: any(l in labels for l in x[\"labels\"]), num_proc=32\n",
    "    )\n",
    "    print(ds_.num_rows)\n",
    "\n",
    "    output_file = f\"/home/bhuang/icd_10/data/synthetic/synthetic-mistral_large_instruct_2407-240909-processed-test-{name}.jsonl\"\n",
    "    ds_.to_json(output_file, orient=\"records\", lines=True, force_ascii=False)"
   ]
  },
  {
   "cell_type": "code",
   "execution_count": null,
   "id": "c8455386-9970-4309-bc46-1f47cf6d3b03",
   "metadata": {},
   "outputs": [],
   "source": []
  },
  {
   "cell_type": "code",
   "execution_count": 11,
   "id": "652b3a41-2615-40d1-9340-93dcdb80f2e8",
   "metadata": {},
   "outputs": [],
   "source": [
    "# regenerate code_freqs for head/mid/tail\n",
    "\n",
    "for name, labels in labels_dict.items():\n",
    "    mask = np.isin(uniques, np.array(list(labels)))\n",
    "    target_counts = counts[mask]\n",
    "    target_uniques = uniques[mask]\n",
    "    # renormalized freq\n",
    "    target_freqs = target_counts / target_counts.sum()\n",
    "\n",
    "    # save\n",
    "    df = pd.DataFrame({\"code\": target_uniques, \"freq\": target_freqs})\n",
    "    output_file = f\"/home/bhuang/icd_10/data/synthetic/synthetic-mistral_large_instruct_2407-240909-processed-train-10k-code_freqs-{name}.jsonl\"\n",
    "    df.to_json(output_file, orient=\"records\", lines=True, force_ascii=False)"
   ]
  },
  {
   "cell_type": "code",
   "execution_count": null,
   "id": "be74284f-7365-47b1-af0c-80a00635089b",
   "metadata": {},
   "outputs": [],
   "source": []
  }
 ],
 "metadata": {
  "kernelspec": {
   "display_name": "ocd-10",
   "language": "python",
   "name": "ocd-10"
  },
  "language_info": {
   "codemirror_mode": {
    "name": "ipython",
    "version": 3
   },
   "file_extension": ".py",
   "mimetype": "text/x-python",
   "name": "python",
   "nbconvert_exporter": "python",
   "pygments_lexer": "ipython3",
   "version": "3.10.14"
  }
 },
 "nbformat": 4,
 "nbformat_minor": 5
}
