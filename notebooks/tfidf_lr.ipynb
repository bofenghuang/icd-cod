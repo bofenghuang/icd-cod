{
 "cells": [
  {
   "cell_type": "code",
   "execution_count": 1,
   "id": "9bd094b7-cf26-430d-8989-1a8384fb2380",
   "metadata": {},
   "outputs": [],
   "source": [
    "import os\n",
    "\n",
    "os.environ[\"HF_HOME\"] = \"/projects/bhuang/.cache/huggingface\"\n",
    "# os.environ[\"OMP_NUM_THREADS\"] = \"1\"\n",
    "os.environ[\"TOKENIZERS_PARALLELISM\"] = \"false\""
   ]
  },
  {
   "cell_type": "code",
   "execution_count": 2,
   "id": "6f4c1ff3-27f7-4774-8eb4-7945b7b8a920",
   "metadata": {},
   "outputs": [],
   "source": [
    "# disable warning of test label not in train\n",
    "# UserWarning: Label not 1052 is present in all training examples.\n",
    "import warnings\n",
    "\n",
    "# Removes warnings in the current job\n",
    "# warnings.filterwarnings(\"ignore\")\n",
    "warnings.filterwarnings(\"ignore\", category=UserWarning)\n",
    "\n",
    "# Removes warnings in the spawned jobs\n",
    "os.environ[\"PYTHONWARNINGS\"] = \"ignore\""
   ]
  },
  {
   "cell_type": "code",
   "execution_count": 3,
   "id": "27fbfef3-cfd4-4d5b-84ee-34f1ed0197e2",
   "metadata": {},
   "outputs": [
    {
     "name": "stderr",
     "output_type": "stream",
     "text": [
      "/home/bhuang/anaconda3/envs/ocd-10/lib/python3.10/site-packages/tqdm/auto.py:21: TqdmWarning: IProgress not found. Please update jupyter and ipywidgets. See https://ipywidgets.readthedocs.io/en/stable/user_install.html\n",
      "  from .autonotebook import tqdm as notebook_tqdm\n"
     ]
    }
   ],
   "source": [
    "import math\n",
    "\n",
    "import numpy as np\n",
    "import pandas as pd\n",
    "from datasets import load_dataset\n",
    "from tqdm import tqdm"
   ]
  },
  {
   "cell_type": "code",
   "execution_count": null,
   "id": "b8b680e8-4456-4dbb-b2d2-d7c16678aaf4",
   "metadata": {},
   "outputs": [],
   "source": []
  },
  {
   "cell_type": "markdown",
   "id": "524ec20b-1d33-4d4f-8693-04d3ff7c0932",
   "metadata": {},
   "source": [
    "## Load data"
   ]
  },
  {
   "cell_type": "code",
   "execution_count": null,
   "id": "ec279ac0-d3de-469c-a461-7a5966182c26",
   "metadata": {},
   "outputs": [],
   "source": [
    "# drbenchmark_quaero\n",
    "\n",
    "data_files = {\n",
    "    \"train\": [\n",
    "        \"/home/bhuang/icd_10/data/quaero_icd10_by_category_resplitted/drbenchmark_quaero-medline-train-cls-mistral_large_instruct_2407-processed.jsonl\",\n",
    "        \"/home/bhuang/icd_10/data/quaero_icd10_by_category_resplitted/drbenchmark_quaero-emea-train-cls-mistral_large_instruct_2407-processed.jsonl\",\n",
    "    ],\n",
    "    \"valid\": [\n",
    "        \"/home/bhuang/icd_10/data/quaero_icd10_by_category_resplitted/drbenchmark_quaero-medline-validation-cls-mistral_large_instruct_2407-processed.jsonl\",\n",
    "        \"/home/bhuang/icd_10/data/quaero_icd10_by_category_resplitted/drbenchmark_quaero-emea-validation-cls-mistral_large_instruct_2407-processed.jsonl\",\n",
    "    ],\n",
    "    # \"test\": [\n",
    "    #     \"/home/bhuang/icd_10/data/quaero_icd10_by_category_resplitted/drbenchmark_quaero-medline-test-cls-mistral_large_instruct_2407-processed.jsonl\",\n",
    "    #     \"/home/bhuang/icd_10/data/quaero_icd10_by_category_resplitted/drbenchmark_quaero-emea-test-cls-mistral_large_instruct_2407-processed.jsonl\",\n",
    "    # ],\n",
    "    \"test_quaero_medline\": [\n",
    "        \"/home/bhuang/icd_10/data/quaero_icd10_by_category_resplitted/drbenchmark_quaero-medline-test-cls-mistral_large_instruct_2407-processed.jsonl\",\n",
    "    ],\n",
    "    \"test_quaero_emea\": [\n",
    "        \"/home/bhuang/icd_10/data/quaero_icd10_by_category_resplitted/drbenchmark_quaero-emea-test-cls-mistral_large_instruct_2407-processed.jsonl\",\n",
    "    ],\n",
    "}"
   ]
  },
  {
   "cell_type": "code",
   "execution_count": null,
   "id": "4f2c7d9f-de08-4014-b7f7-b1277835aa0a",
   "metadata": {},
   "outputs": [],
   "source": []
  },
  {
   "cell_type": "code",
   "execution_count": 4,
   "id": "71a50026-f4f1-4be9-83ff-28e9f929e9f8",
   "metadata": {},
   "outputs": [],
   "source": [
    "# synthetic\n",
    "\n",
    "data_files = {\n",
    "    \"train\": [\n",
    "        \"/home/bhuang/icd_10/data/synthetic/synthetic-mistral_large_instruct_2407-240909-processed-train-10k.jsonl\",\n",
    "    ],\n",
    "    \"valid\": [\n",
    "        \"/home/bhuang/icd_10/data/synthetic/synthetic-mistral_large_instruct_2407-240909-processed-validation.jsonl\",\n",
    "        \"/home/bhuang/icd_10/data/synthetic_test/synthetic-head-processed-validation.jsonl\",\n",
    "        \"/home/bhuang/icd_10/data/synthetic_test/synthetic-medium-processed-validation.jsonl\",\n",
    "        \"/home/bhuang/icd_10/data/synthetic_test/synthetic-tail-processed-validation.jsonl\",\n",
    "    ],\n",
    "    \"test_synthetic\": [\n",
    "        \"/home/bhuang/icd_10/data/synthetic/synthetic-mistral_large_instruct_2407-240909-processed-test.jsonl\",\n",
    "    ],\n",
    "    \"test_synthetic_head\": [\n",
    "        \"/home/bhuang/icd_10/data/synthetic_test/synthetic-head-processed-test.jsonl\",\n",
    "    ],\n",
    "    \"test_synthetic_medium\": [\n",
    "        \"/home/bhuang/icd_10/data/synthetic_test/synthetic-medium-processed-test.jsonl\",\n",
    "    ],\n",
    "    \"test_synthetic_tail\": [\n",
    "        \"/home/bhuang/icd_10/data/synthetic_test/synthetic-tail-processed-test.jsonl\",\n",
    "    ],\n",
    "}"
   ]
  },
  {
   "cell_type": "code",
   "execution_count": null,
   "id": "15fc2968-2110-4bdf-862d-79ee19f4d403",
   "metadata": {},
   "outputs": [],
   "source": []
  },
  {
   "cell_type": "code",
   "execution_count": 5,
   "id": "eb842029-d98f-4305-88dd-b6c695124f22",
   "metadata": {},
   "outputs": [
    {
     "data": {
      "text/plain": [
       "DatasetDict({\n",
       "    train: Dataset({\n",
       "        features: ['labels', 'text', 'has_diso'],\n",
       "        num_rows: 10000\n",
       "    })\n",
       "    valid: Dataset({\n",
       "        features: ['labels', 'text', 'has_diso'],\n",
       "        num_rows: 4000\n",
       "    })\n",
       "    test_synthetic: Dataset({\n",
       "        features: ['labels', 'text', 'has_diso'],\n",
       "        num_rows: 1000\n",
       "    })\n",
       "    test_synthetic_head: Dataset({\n",
       "        features: ['labels', 'text', 'has_diso'],\n",
       "        num_rows: 1000\n",
       "    })\n",
       "    test_synthetic_medium: Dataset({\n",
       "        features: ['labels', 'text', 'has_diso'],\n",
       "        num_rows: 1000\n",
       "    })\n",
       "    test_synthetic_tail: Dataset({\n",
       "        features: ['labels', 'text', 'has_diso'],\n",
       "        num_rows: 1000\n",
       "    })\n",
       "})"
      ]
     },
     "execution_count": 5,
     "metadata": {},
     "output_type": "execute_result"
    }
   ],
   "source": [
    "dataset = load_dataset(\"json\", data_files=data_files)\n",
    "dataset"
   ]
  },
  {
   "cell_type": "code",
   "execution_count": 6,
   "id": "b75d9cc8-7ef5-4840-94c8-4d0c54bb45db",
   "metadata": {},
   "outputs": [],
   "source": [
    "# x_train, y_train = dataset[\"train\"][\"text\"], dataset[\"train\"][\"labels\"]\n",
    "# x_valid, y_valid = dataset[\"valid\"][\"text\"], dataset[\"valid\"][\"labels\"]\n",
    "# x_test, y_test = dataset[\"test\"][\"text\"], dataset[\"test\"][\"labels\"]\n",
    "\n",
    "x, y = {}, {}\n",
    "for name, ds in dataset.items():\n",
    "    x[name] = ds[\"text\"]\n",
    "    y[name] = ds[\"labels\"]"
   ]
  },
  {
   "cell_type": "code",
   "execution_count": null,
   "id": "70cae5d5-0854-4657-b5cd-aaa5737c0455",
   "metadata": {},
   "outputs": [],
   "source": []
  },
  {
   "cell_type": "code",
   "execution_count": null,
   "id": "16c7d37e-e8dd-4579-ad94-acd53ef01819",
   "metadata": {},
   "outputs": [],
   "source": [
    "# optional: use extra synthetic data\n",
    "synth_data_files = [\n",
    "    # \"/home/bhuang/icd_10/data/synthetic/synthetic-mistral_large_instruct_2407-240909-processed-train.jsonl\",\n",
    "    \"/home/bhuang/icd_10/data/synthetic/synthetic-mistral_large_instruct_2407-240909-processed-train-10k.jsonl\"\n",
    "]\n",
    "\n",
    "dataset_synth = load_dataset(\"json\", data_files=synth_data_files, split=\"train\")\n",
    "dataset_synth"
   ]
  },
  {
   "cell_type": "code",
   "execution_count": null,
   "id": "ef540b36-af0d-45e5-a2b4-1ff621418cdc",
   "metadata": {},
   "outputs": [],
   "source": [
    "x_train_synth, y_train_synth = dataset_synth[\"text\"], dataset_synth[\"labels\"]"
   ]
  },
  {
   "cell_type": "code",
   "execution_count": null,
   "id": "63439bd7-c46d-42c6-8d67-14e0107873de",
   "metadata": {},
   "outputs": [],
   "source": []
  },
  {
   "cell_type": "markdown",
   "id": "33441c52-954d-4af8-9e2c-f7cf5fd8686e",
   "metadata": {},
   "source": [
    "## Transform data"
   ]
  },
  {
   "cell_type": "markdown",
   "id": "0696b74e-cb6e-4045-b200-ad6174bea524",
   "metadata": {},
   "source": [
    "### Binarize label"
   ]
  },
  {
   "cell_type": "code",
   "execution_count": 7,
   "id": "d28fe6c3-7d55-4dd5-b2a2-f85187de07dc",
   "metadata": {},
   "outputs": [
    {
     "data": {
      "text/plain": [
       "933"
      ]
     },
     "execution_count": 7,
     "metadata": {},
     "output_type": "execute_result"
    }
   ],
   "source": [
    "from sklearn.preprocessing import MultiLabelBinarizer\n",
    "\n",
    "# prepare labels\n",
    "\n",
    "# include valid and test in overall classes\n",
    "# y = y_train + y_valid + y_test\n",
    "y_all = sum(y.values(), [])\n",
    "\n",
    "mlb = MultiLabelBinarizer()\n",
    "mlb.fit(y_all)\n",
    "\n",
    "classes = mlb.classes_\n",
    "num_classes = len(classes)\n",
    "num_classes"
   ]
  },
  {
   "cell_type": "code",
   "execution_count": 8,
   "id": "732bf4d1-677b-4cbb-89ad-f6e7c423dcf4",
   "metadata": {},
   "outputs": [],
   "source": [
    "# transform labels\n",
    "# y_train_encoded = mlb.transform(y_train)\n",
    "# y_valid_encoded = mlb.transform(y_valid)\n",
    "# y_test_encoded = mlb.transform(y_test)\n",
    "\n",
    "y_encoded = {k: mlb.transform(v) for k, v in y.items()}"
   ]
  },
  {
   "cell_type": "code",
   "execution_count": null,
   "id": "01610c29-686b-4ab1-82e9-18af8813bcab",
   "metadata": {},
   "outputs": [],
   "source": [
    "y_train_synth_encoded = mlb.transform(y_train_synth)"
   ]
  },
  {
   "cell_type": "code",
   "execution_count": null,
   "id": "d8a96985-de61-4d19-aa6f-e005d2e2cf86",
   "metadata": {},
   "outputs": [],
   "source": []
  },
  {
   "cell_type": "code",
   "execution_count": null,
   "id": "e1d89d6d-93b1-49d0-8765-769cdf8b4329",
   "metadata": {},
   "outputs": [],
   "source": [
    "# Imbalanced-learn currently supports binary, multiclass and binarized encoded multiclasss targets. Multilabel and multioutput targets are not supported\n",
    "#!pip install imbalanced-learn\n",
    "# from imblearn.over_sampling import RandomOverSampler\n",
    "\n",
    "# ros = RandomOverSampler(random_state=9000)\n",
    "# x_train_resampled, y_train_resampled = ros.fit_resample(x_train, y_train_encoded)"
   ]
  },
  {
   "cell_type": "code",
   "execution_count": null,
   "id": "f894dce9-df30-43c3-8147-cb8013fa6dcb",
   "metadata": {},
   "outputs": [],
   "source": []
  },
  {
   "cell_type": "code",
   "execution_count": null,
   "id": "71134ac4-0d46-46a3-ab3c-bd5c83b12bce",
   "metadata": {},
   "outputs": [],
   "source": []
  },
  {
   "cell_type": "markdown",
   "id": "09ff8677-2d2c-4c92-bc81-44ceda5328a4",
   "metadata": {},
   "source": [
    "### Normalization"
   ]
  },
  {
   "cell_type": "code",
   "execution_count": 9,
   "id": "01642b0e-c0de-4e75-bdd2-41983caa593b",
   "metadata": {},
   "outputs": [],
   "source": [
    "import re\n",
    "import unicodedata\n",
    "\n",
    "# normalize text to get more dense features\n",
    "\n",
    "\n",
    "# adapted to optionally keep selected symbols\n",
    "def remove_symbols(s: str, keep: str = \"\"):\n",
    "    \"\"\"\n",
    "    Replace any other markers, symbols, punctuations with a space, keeping diacritics\n",
    "    \"\"\"\n",
    "    # fmt: off\n",
    "    return \"\".join(\n",
    "        c\n",
    "        if c in keep\n",
    "        else \" \"\n",
    "        if unicodedata.category(c)[0] in \"MSP\"\n",
    "        else c\n",
    "        for c in unicodedata.normalize(\"NFKC\", s)\n",
    "    )\n",
    "    # fmt: on\n",
    "\n",
    "\n",
    "def normalize_text(s):\n",
    "    s = s.lower()  # lowercase\n",
    "\n",
    "    # normalize punkt\n",
    "    s = unicodedata.normalize(\"NFKD\", s)  # normalize unicode chars\n",
    "    s = re.sub(r\"[´′’ʼ‘ʻ`]\", \"'\", s)  # standardize quotes and apostrophes\n",
    "    s = re.sub(r\"[−‐–—]\", \"-\", s)  # standardize hyphens and dashes\n",
    "    s = re.sub(r\"\\s*'\\s*\", \"' \", s)  # add space after apostrophe\n",
    "    s = re.sub(r\"\\s*([,.:;!?])\", r\" \\1\", s)  # add space before comma/period\n",
    "    s = re.sub(r\"\\s*([-/])\\s*\", r\" \\1 \", s)  # add spaces around slash/dash\n",
    "    s = re.sub(r\"\\(\\s*\", \"( \", s)  # add space after parentheses\n",
    "    s = re.sub(r\"\\s*\\)\", \" )\", s)  # add space before parentheses\n",
    "\n",
    "    # remove punkt except \"'\"\n",
    "    \"\"\"\n",
    "    s = remove_symbols(s, keep=\"'\")\n",
    "    s = re.sub(r\"\\s*'\\s*\", \"' \", s)  # add space after apostrophe\n",
    "    \"\"\"\n",
    "\n",
    "    s = re.sub(r\"æ\", \"ae\", s)  # standarize french chars\n",
    "    s = re.sub(r\"œ\", \"oe\", s)  # standarize french chars\n",
    "    s = re.sub(r\"\\s+\", \" \", s).strip()  # remove extra whitespace\n",
    "    return s\n",
    "\n",
    "\n",
    "# x_train_norm = list(map(normalize_text, x_train))\n",
    "# x_valid_norm = list(map(normalize_text, x_valid))\n",
    "# x_test_norm = list(map(normalize_text, x_test))"
   ]
  },
  {
   "cell_type": "code",
   "execution_count": null,
   "id": "f9ef1a8d-1b7f-443b-ae4f-e620296f539e",
   "metadata": {},
   "outputs": [],
   "source": []
  },
  {
   "cell_type": "markdown",
   "id": "7d513dca-0a33-47a8-b311-3634a1677b80",
   "metadata": {},
   "source": [
    "### Tokenization"
   ]
  },
  {
   "cell_type": "code",
   "execution_count": 10,
   "id": "136f6cb8-0d75-460f-9eb6-fb030a1c3ca1",
   "metadata": {},
   "outputs": [],
   "source": [
    "# default word analyzer used in TfidfVectorizer\n",
    "word_token_pattern = re.compile(r\"(?u)\\b\\w\\w+\\b\")\n",
    "\n",
    "\n",
    "def word_tokenize(s):\n",
    "    # return nltk.word_tokenize(s)\n",
    "    # more efficient\n",
    "    return word_token_pattern.findall(s)"
   ]
  },
  {
   "cell_type": "code",
   "execution_count": null,
   "id": "4f807fac-3182-45a0-83ab-b662a7c3bcfc",
   "metadata": {},
   "outputs": [],
   "source": []
  },
  {
   "cell_type": "markdown",
   "id": "b946762d-3325-4466-8549-c5ec20bebac0",
   "metadata": {},
   "source": [
    "### Stopwords"
   ]
  },
  {
   "cell_type": "code",
   "execution_count": null,
   "id": "b4e16d56-2d3a-4848-9c25-d2f23a7d584d",
   "metadata": {},
   "outputs": [],
   "source": [
    "#!pip install -U nltk\n",
    "# import nltk\n",
    "# nltk.download(\"stopwords\")\n",
    "# nltk.download(\"punkt\")\n",
    "# nltk.download(\"punkt_tab\")"
   ]
  },
  {
   "cell_type": "code",
   "execution_count": 11,
   "id": "58b3d4da-b840-4dd5-82ee-233120a7572f",
   "metadata": {},
   "outputs": [],
   "source": [
    "from nltk.corpus import stopwords\n",
    "\n",
    "# stopwords_list = stopwords.words(\"english\") + stopwords.words(\"french\")\n",
    "stopwords = set(stopwords.words(\"french\"))"
   ]
  },
  {
   "cell_type": "code",
   "execution_count": null,
   "id": "1f3bebe5-7efa-4cd4-9fd5-52e8b7e42457",
   "metadata": {},
   "outputs": [],
   "source": []
  },
  {
   "cell_type": "markdown",
   "id": "0a7fdee3-1282-4856-bb5b-5908b005a23e",
   "metadata": {},
   "source": [
    "### Stemming"
   ]
  },
  {
   "cell_type": "code",
   "execution_count": 12,
   "id": "873b200e-6de3-4607-ac83-b4df589a280e",
   "metadata": {},
   "outputs": [],
   "source": [
    "from nltk.stem.snowball import SnowballStemmer\n",
    "\n",
    "# init SnowballStemmer\n",
    "stemmer = SnowballStemmer(\"french\")\n",
    "\n",
    "\n",
    "def stem_word(word):\n",
    "    return stemmer.stem(word)"
   ]
  },
  {
   "cell_type": "code",
   "execution_count": null,
   "id": "78d17391-e214-4f76-a219-d39c318f0a9e",
   "metadata": {},
   "outputs": [],
   "source": []
  },
  {
   "cell_type": "code",
   "execution_count": null,
   "id": "f3a15f58-07c9-4aa1-b593-a8504c3a8142",
   "metadata": {},
   "outputs": [],
   "source": []
  },
  {
   "cell_type": "code",
   "execution_count": null,
   "id": "2d1d564c-adab-4203-a979-38c4ced67c22",
   "metadata": {},
   "outputs": [],
   "source": []
  },
  {
   "cell_type": "code",
   "execution_count": null,
   "id": "a8a175cd-cae2-4bfb-a432-aac563db052e",
   "metadata": {},
   "outputs": [],
   "source": [
    "# prepare input text at once\n",
    "\n",
    "# tf-idf Vectorization\n",
    "# tfidf = TfidfVectorizer(use_idf=True, max_features=5000)\n",
    "# X_train_tfidf = tfidf.fit_transform(X_train)\n",
    "# X_test_tfidf = tfidf.transform(X_test)"
   ]
  },
  {
   "cell_type": "code",
   "execution_count": null,
   "id": "1beb3ea6-5410-4d5b-ba3c-638c4670a202",
   "metadata": {},
   "outputs": [],
   "source": []
  },
  {
   "cell_type": "markdown",
   "id": "cd1c3518-2899-42c2-a2b9-afff89501252",
   "metadata": {},
   "source": [
    "## Train and evaluate"
   ]
  },
  {
   "cell_type": "markdown",
   "id": "3d363e33-da60-425d-8f6f-9188f779abfc",
   "metadata": {},
   "source": [
    "### Evaluate helper"
   ]
  },
  {
   "cell_type": "code",
   "execution_count": 13,
   "id": "d9ff23cc-66a9-45b7-a375-778936586c8b",
   "metadata": {},
   "outputs": [],
   "source": [
    "from sklearn.metrics import precision_recall_fscore_support, roc_auc_score\n",
    "\n",
    "\n",
    "# fmt: off\n",
    "def evaluate(y, preds, average=\"micro\", verbose=True):\n",
    "    \"\"\"evaluate on all metrics\"\"\"\n",
    "    precision, recall, f1, _ = precision_recall_fscore_support(y, preds, average=average, zero_division=1)\n",
    "    # precision, recall, f1, _ = precision_recall_fscore_support(y, preds, average=average, labels=classes, zero_division=1)\n",
    "    auc_score = roc_auc_score(y, preds, average=average)\n",
    "\n",
    "    if verbose:\n",
    "        print(f\"precision: {precision:.4f}, recall: {recall:.4f}, f1: {f1:.4f}, auc_score: {auc_score:.4f}\")\n",
    "\n",
    "    # print(classification_report(y, preds, zero_division=1, digits=4))\n",
    "\n",
    "    \"\"\"\n",
    "    conf_mat = confusion_matrix(y, preds)\n",
    "    conf_mat_df = pd.DataFrame(conf_mat, index=classes, columns=classes)\n",
    "    # print(conf_mat_df)\n",
    "    \n",
    "    plt.figure(figsize=(15, 10))\n",
    "    sns.heatmap(conf_mat_df, annot=True, vmin=0, vmax=conf_mat.max(), fmt='d', cmap=\"YlGnBu\")\n",
    "    plt.yticks(rotation=0)\n",
    "    plt.xticks(rotation=45)\n",
    "    \"\"\"\n",
    "\n",
    "    return {\"precision\": precision, \"recall\": recall, \"f1\": f1, \"auc_score\": auc_score}\n",
    "# fmt: on"
   ]
  },
  {
   "cell_type": "code",
   "execution_count": null,
   "id": "01de514b-3801-4975-a9f6-cfca068d8cec",
   "metadata": {},
   "outputs": [],
   "source": []
  },
  {
   "cell_type": "markdown",
   "id": "a1a8e502-d27c-434e-b1d7-04ed285b0189",
   "metadata": {},
   "source": [
    "### Train helper"
   ]
  },
  {
   "cell_type": "code",
   "execution_count": 14,
   "id": "6cf5efbf-eb73-4403-a560-7375fd5cd7c9",
   "metadata": {},
   "outputs": [],
   "source": [
    "def predict_evaluate(x, y, clf, threshold=None, verbose=True):\n",
    "    \"\"\"predict then evaluate\"\"\"\n",
    "    if threshold is None:\n",
    "        # predict class labels\n",
    "        preds = clf.predict(x)\n",
    "        return evaluate(y, preds, verbose=verbose)\n",
    "    else:\n",
    "        # predict proba estimates for each label\n",
    "        preds = clf.predict_proba(x)\n",
    "        preds = np.where(preds >= threshold, 1, 0)\n",
    "        return evaluate(y, preds, verbose=verbose)\n",
    "\n",
    "\n",
    "# fmt: off\n",
    "# def train_predict_evaluate(clf, x_tr, y_tr, x_val=None, y_val=None, threshold=None):\n",
    "# def train_predict_evaluate(clf, x_tr=x_train, y_tr=y_train_encoded, x_val=None, y_val=None, threshold=None):\n",
    "# def train_predict_evaluate(clf, x_tr=x_train, y_tr=y_train_encoded, x_val=x_valid, y_val=y_valid_encoded, threshold=None, verbose=True):\n",
    "def train_predict_evaluate(clf, x_tr=x[\"train\"], y_tr=y_encoded[\"train\"], x_val=x[\"valid\"], y_val=y_encoded[\"valid\"], threshold=None, verbose=True):\n",
    "    \"\"\"train, then predict and evaluate\"\"\"\n",
    "    # train\n",
    "    clf.fit(x_tr, y_tr)\n",
    "\n",
    "    result = {}\n",
    "    print(\"Evaluation on training data:\")\n",
    "    r = predict_evaluate(x_tr, y_tr, clf, threshold=threshold, verbose=verbose)\n",
    "    result.update({f\"train_{k}\": v for k, v in r.items()})\n",
    "    if x_val is not None and y_val is not None:\n",
    "        print(\"\\nEvaluation on valid data:\")\n",
    "        r = predict_evaluate(x_val, y_val, clf, threshold=threshold, verbose=verbose)\n",
    "        result.update({f\"valid_{k}\": v for k, v in r.items()})\n",
    "    return result\n",
    "# fmt: on"
   ]
  },
  {
   "cell_type": "code",
   "execution_count": null,
   "id": "e2e9f912-b593-4b1e-9740-a24b3f013684",
   "metadata": {},
   "outputs": [],
   "source": []
  },
  {
   "cell_type": "markdown",
   "id": "bf08d785-a68b-4cd7-b26e-dd169be7a9ae",
   "metadata": {},
   "source": [
    "### Train"
   ]
  },
  {
   "cell_type": "code",
   "execution_count": null,
   "id": "6139f9aa-1e40-44ce-bc0e-7ce300d27055",
   "metadata": {},
   "outputs": [],
   "source": []
  },
  {
   "cell_type": "code",
   "execution_count": 19,
   "id": "85f695ed-4d92-420d-b09b-2eb0112e7954",
   "metadata": {},
   "outputs": [],
   "source": [
    "from sklearn.feature_extraction.text import TfidfVectorizer\n",
    "from sklearn.linear_model import LogisticRegression\n",
    "from sklearn.multiclass import OneVsRestClassifier\n",
    "from sklearn.pipeline import make_pipeline\n",
    "\n",
    "\n",
    "def preprocess_and_tokenize(s):\n",
    "    # normalize the text\n",
    "    s = normalize_text(s)\n",
    "    # tokenize\n",
    "    # return word_tokenize(s)\n",
    "    # tokenize, remove stopwords\n",
    "    # return [w for w in word_tokenize(s) if w not in stopwords]\n",
    "    # tokenize, remove stopwords, and stem\n",
    "    return [stem_word(w) for w in word_tokenize(s) if w not in stopwords]\n",
    "\n",
    "\n",
    "# lr\n",
    "tfidf_lr_clf = make_pipeline(\n",
    "    TfidfVectorizer(\n",
    "        # strip_accents=None,\n",
    "        # lowercase=True,\n",
    "        # stop_words=stopwords,\n",
    "        analyzer=preprocess_and_tokenize,\n",
    "        use_idf=True,\n",
    "    ),\n",
    "    OneVsRestClassifier(\n",
    "        LogisticRegression(\n",
    "            class_weight=\"balanced\",\n",
    "            solver=\"liblinear\",  # lbfgs, liblinear, saga, sag\n",
    "            C=0.01,\n",
    "            # n_jobs=16,\n",
    "            random_state=10,\n",
    "        ),\n",
    "        n_jobs=-1,\n",
    "    ),\n",
    ")"
   ]
  },
  {
   "cell_type": "code",
   "execution_count": null,
   "id": "e238f217-5d8b-430f-9687-cfbc4171ab2b",
   "metadata": {},
   "outputs": [],
   "source": []
  },
  {
   "cell_type": "code",
   "execution_count": null,
   "id": "493a510c-4fc8-4fdc-b977-254310d97615",
   "metadata": {},
   "outputs": [],
   "source": [
    "from sklearn.svm import LinearSVC\n",
    "\n",
    "# svm\n",
    "tfidf_svm_clf = make_pipeline(\n",
    "    TfidfVectorizer(\n",
    "        # strip_accents=None,\n",
    "        # lowercase=True,\n",
    "        # stop_words=stopwords,\n",
    "        analyzer=preprocess_and_tokenize,\n",
    "        use_idf=True,\n",
    "    ),\n",
    "    OneVsRestClassifier(\n",
    "        LinearSVC(\n",
    "            class_weight=\"balanced\",\n",
    "            C=0.01,\n",
    "            # n_jobs=16,\n",
    "            random_state=10,\n",
    "        ),\n",
    "        n_jobs=-1,\n",
    "    ),\n",
    ")"
   ]
  },
  {
   "cell_type": "code",
   "execution_count": null,
   "id": "f1caa185-6af4-4fe6-a174-4660e3c1bbd7",
   "metadata": {},
   "outputs": [],
   "source": []
  },
  {
   "cell_type": "code",
   "execution_count": 20,
   "id": "f03ef1d4-64c5-4395-b6d5-1b039a19eeb3",
   "metadata": {},
   "outputs": [
    {
     "name": "stdout",
     "output_type": "stream",
     "text": [
      "Evaluation on training data:\n",
      "precision: 0.2523, recall: 0.9791, f1: 0.4012, auc_score: 0.9848\n",
      "\n",
      "Evaluation on valid data:\n",
      "precision: 0.1852, recall: 0.6834, f1: 0.2914, auc_score: 0.8369\n"
     ]
    },
    {
     "data": {
      "text/plain": [
       "{'train_precision': 0.25232178448751114,\n",
       " 'train_recall': 0.9791337546076883,\n",
       " 'train_f1': 0.40124351772552247,\n",
       " 'train_auc_score': 0.9848271654705815,\n",
       " 'valid_precision': 0.18518097489996363,\n",
       " 'valid_recall': 0.6834200369189461,\n",
       " 'valid_f1': 0.29140281206396906,\n",
       " 'valid_auc_score': 0.8368930547473828}"
      ]
     },
     "execution_count": 20,
     "metadata": {},
     "output_type": "execute_result"
    }
   ],
   "source": [
    "# simple train\n",
    "\n",
    "clf = tfidf_lr_clf\n",
    "# clf = tfidf_svm_clf\n",
    "\n",
    "train_predict_evaluate(clf)"
   ]
  },
  {
   "cell_type": "code",
   "execution_count": 28,
   "id": "f01f35b3-b6eb-467b-9763-10160bcbc676",
   "metadata": {},
   "outputs": [
    {
     "name": "stderr",
     "output_type": "stream",
     "text": [
      "100%|████████████████████████████████████████████████████████████████████████████████████████████████████████████████████████████████| 99/99 [29:57<00:00, 18.16s/it]\n"
     ]
    },
    {
     "data": {
      "text/html": [
       "<div>\n",
       "<style scoped>\n",
       "    .dataframe tbody tr th:only-of-type {\n",
       "        vertical-align: middle;\n",
       "    }\n",
       "\n",
       "    .dataframe tbody tr th {\n",
       "        vertical-align: top;\n",
       "    }\n",
       "\n",
       "    .dataframe thead th {\n",
       "        text-align: right;\n",
       "    }\n",
       "</style>\n",
       "<table border=\"1\" class=\"dataframe\">\n",
       "  <thead>\n",
       "    <tr style=\"text-align: right;\">\n",
       "      <th></th>\n",
       "      <th>threshold</th>\n",
       "      <th>precision</th>\n",
       "      <th>recall</th>\n",
       "      <th>f1</th>\n",
       "      <th>auc_score</th>\n",
       "    </tr>\n",
       "  </thead>\n",
       "  <tbody>\n",
       "    <tr>\n",
       "      <th>30</th>\n",
       "      <td>0.31</td>\n",
       "      <td>0.599828</td>\n",
       "      <td>0.525340</td>\n",
       "      <td>0.560118</td>\n",
       "      <td>0.762108</td>\n",
       "    </tr>\n",
       "    <tr>\n",
       "      <th>38</th>\n",
       "      <td>0.39</td>\n",
       "      <td>0.635830</td>\n",
       "      <td>0.500000</td>\n",
       "      <td>0.559793</td>\n",
       "      <td>0.749541</td>\n",
       "    </tr>\n",
       "    <tr>\n",
       "      <th>37</th>\n",
       "      <td>0.38</td>\n",
       "      <td>0.630920</td>\n",
       "      <td>0.503021</td>\n",
       "      <td>0.559757</td>\n",
       "      <td>0.751039</td>\n",
       "    </tr>\n",
       "    <tr>\n",
       "      <th>33</th>\n",
       "      <td>0.34</td>\n",
       "      <td>0.612736</td>\n",
       "      <td>0.515103</td>\n",
       "      <td>0.559694</td>\n",
       "      <td>0.757030</td>\n",
       "    </tr>\n",
       "    <tr>\n",
       "      <th>40</th>\n",
       "      <td>0.41</td>\n",
       "      <td>0.644780</td>\n",
       "      <td>0.494378</td>\n",
       "      <td>0.559650</td>\n",
       "      <td>0.746753</td>\n",
       "    </tr>\n",
       "  </tbody>\n",
       "</table>\n",
       "</div>"
      ],
      "text/plain": [
       "    threshold  precision    recall        f1  auc_score\n",
       "30       0.31   0.599828  0.525340  0.560118   0.762108\n",
       "38       0.39   0.635830  0.500000  0.559793   0.749541\n",
       "37       0.38   0.630920  0.503021  0.559757   0.751039\n",
       "33       0.34   0.612736  0.515103  0.559694   0.757030\n",
       "40       0.41   0.644780  0.494378  0.559650   0.746753"
      ]
     },
     "execution_count": 28,
     "metadata": {},
     "output_type": "execute_result"
    }
   ],
   "source": [
    "# grid search binarization threshold on validation set\n",
    "\n",
    "clf = best_model\n",
    "\n",
    "perf_by_thr = []\n",
    "for thr in tqdm(np.arange(0.01, 1, 0.01)):\n",
    "    r = predict_evaluate(\n",
    "        x[\"valid\"], y_encoded[\"valid\"], clf, threshold=thr, verbose=False\n",
    "    )\n",
    "    perf_by_thr.append({\"threshold\": thr, **r})\n",
    "\n",
    "df_perf_by_thr = pd.DataFrame(perf_by_thr)\n",
    "# sort by f1\n",
    "df_perf_by_thr = df_perf_by_thr.sort_values(\"f1\", ascending=False)\n",
    "df_perf_by_thr.head()"
   ]
  },
  {
   "cell_type": "code",
   "execution_count": 29,
   "id": "1fb395bc-961f-4277-b05e-31510edea9bf",
   "metadata": {},
   "outputs": [
    {
     "name": "stdout",
     "output_type": "stream",
     "text": [
      "best thr: 0.31\n",
      "perf on test set test_synthetic --> precision: 0.7005, recall: 0.7243, f1: 0.7122, auc_score: 0.8616\n",
      "perf on test set test_synthetic_head --> precision: 0.6580, recall: 0.6958, f1: 0.6764, auc_score: 0.8473\n",
      "perf on test set test_synthetic_medium --> precision: 0.5553, recall: 0.4620, f1: 0.5044, auc_score: 0.7304\n",
      "perf on test set test_synthetic_tail --> precision: 0.4051, recall: 0.2337, f1: 0.2964, auc_score: 0.6163\n"
     ]
    }
   ],
   "source": [
    "# eval on test set using determined threshold\n",
    "best_threshold = df_perf_by_thr.iloc[0][\"threshold\"]\n",
    "print(f\"best thr: {best_threshold}\")\n",
    "\n",
    "# print(\"perf on test set --> \", end=\"\")\n",
    "# predict_evaluate(x_test, y_test_encoded, model, threshold=best_threshold)\n",
    "\n",
    "result = {}\n",
    "for split in x:\n",
    "    if split.startswith(\"test\"):\n",
    "        print(f\"perf on test set {split} --> \", end=\"\")\n",
    "        r = predict_evaluate(\n",
    "            x[split], y_encoded[split], clf, threshold=best_threshold\n",
    "        )\n",
    "        result.update({f\"{split}_{k}\": v for k, v in r.items()})\n",
    "\n",
    "# save result\n",
    "df_result = pd.DataFrame([result])\n",
    "# df_result.to_json(\"tmp_result/tmp.json\", orient=\"records\", lines=True, force_ascii=False)\n",
    "df_result.to_csv(\"tmp_result/tmp.csv\")"
   ]
  },
  {
   "cell_type": "code",
   "execution_count": null,
   "id": "ceac297f-f391-4105-a324-0d9cfba9c45d",
   "metadata": {},
   "outputs": [],
   "source": []
  },
  {
   "cell_type": "code",
   "execution_count": null,
   "id": "f19f519b-9086-44a2-a0d2-da3dde8fa1db",
   "metadata": {},
   "outputs": [],
   "source": [
    "# grid search ratios of original/synthetic data\n",
    "\n",
    "# initial param\n",
    "initial_params = clf.get_params()\n",
    "\n",
    "perf_by_ratio = []\n",
    "\n",
    "multipliers = [0, 0.5] + list(range(1, math.ceil(len(x_train_synth) / len(x[\"train\"])) + 1))\n",
    "for multiplier in tqdm(multipliers):\n",
    "    print(\"\\n\\n\" + f\"Multiplier: {multiplier}\")\n",
    "    print(\"=\" * 50 + \"\\n\\n\")\n",
    "\n",
    "    # get new data\n",
    "    n = min(len(x_train_synth), int(multiplier * len(x[\"train\"])))\n",
    "    x_train_s, y_train_s = x_train_synth[:n], y_train_synth_encoded[:n]\n",
    "\n",
    "    # reinit model param\n",
    "    tfidf_lr_clf.set_params(**initial_params)\n",
    "\n",
    "    r = train_predict_evaluate(\n",
    "        clf,\n",
    "        x_tr=x[\"train\"] + x_train_s,\n",
    "        y_tr=np.concatenate((y_encoded[\"train\"], y_train_s), axis=0),\n",
    "        x_val=x[\"valid\"],\n",
    "        y_val=y_encoded[\"valid\"],\n",
    "        # x_val=x_test,  # test / valid\n",
    "        # y_val=y_test_encoded,\n",
    "    )\n",
    "    perf_by_ratio.append({\"multiplier\": multiplier, **r})\n",
    "\n",
    "\n",
    "df_perf_by_ratio = pd.DataFrame(perf_by_ratio)\n",
    "df_perf_by_ratio = df_perf_by_ratio.sort_values(\"valid_f1\", ascending=False)\n",
    "df_perf_by_ratio.head()"
   ]
  },
  {
   "cell_type": "code",
   "execution_count": null,
   "id": "3dce8628-49c5-42cf-a071-3a6543916b57",
   "metadata": {},
   "outputs": [],
   "source": [
    "output_file = \"/home/bhuang/icd_10/outputs/tfidf_lr/quaero_result_perf_by_ratio.jsonl\"\n",
    "# df_perf_by_ratio.to_json(output_file, orient=\"records\", lines=True, force_ascii=False)"
   ]
  },
  {
   "cell_type": "code",
   "execution_count": null,
   "id": "bf3ecbae-3ee2-4075-af96-d5f73787980b",
   "metadata": {},
   "outputs": [],
   "source": []
  },
  {
   "cell_type": "markdown",
   "id": "fb65ea13-f190-4dfd-a531-9ce7d5ffc9f9",
   "metadata": {},
   "source": [
    "### Grid search"
   ]
  },
  {
   "cell_type": "code",
   "execution_count": 21,
   "id": "071e9305-734c-45cc-8475-a13b72de55d3",
   "metadata": {},
   "outputs": [],
   "source": [
    "from sklearn.model_selection import GridSearchCV, PredefinedSplit\n",
    "\n",
    "# grid search on val set instead of run cv within train set\n",
    "# x = np.concatenate([x_train, x_valid])\n",
    "# y = np.concatenate([y_train_encoded, y_valid_encoded])\n",
    "x_cv = np.concatenate([x[\"train\"], x[\"valid\"]])\n",
    "y_cv = np.concatenate([y_encoded[\"train\"], y_encoded[\"valid\"]])\n",
    "\n",
    "test_fold = np.concatenate(\n",
    "    [\n",
    "        np.full(len(y_encoded[\"train\"]), -1, dtype=np.int8),\n",
    "        np.zeros(len(y_encoded[\"valid\"]), dtype=np.int8),\n",
    "    ]\n",
    ")\n",
    "\n",
    "# define cv part\n",
    "cv = PredefinedSplit(test_fold)"
   ]
  },
  {
   "cell_type": "code",
   "execution_count": 22,
   "id": "23c8f5ef-aa0c-4453-a74f-aebb35eaf2c5",
   "metadata": {},
   "outputs": [
    {
     "name": "stdout",
     "output_type": "stream",
     "text": [
      "Fitting 1 folds for each of 25 candidates, totalling 25 fits\n",
      "{'onevsrestclassifier__estimator__C': 100, 'onevsrestclassifier__estimator__penalty': 'l2', 'onevsrestclassifier__estimator__solver': 'liblinear'}\n",
      "0.5528148000795703\n",
      "Evaluation on training data:\n",
      "precision: 0.9993, recall: 1.0000, f1: 0.9997, auc_score: 1.0000\n",
      "\n",
      "Evaluation on valid data:\n",
      "precision: 0.6786, recall: 0.4664, f1: 0.5528, auc_score: 0.7328\n"
     ]
    },
    {
     "data": {
      "text/plain": [
       "{'train_precision': 0.9993421918168662,\n",
       " 'train_recall': 1.0,\n",
       " 'train_f1': 0.9996709876949398,\n",
       " 'train_auc_score': 0.9999989246867828,\n",
       " 'valid_precision': 0.6786324786324787,\n",
       " 'valid_recall': 0.4663534150025172,\n",
       " 'valid_f1': 0.5528148000795703,\n",
       " 'valid_auc_score': 0.7328229518582379}"
      ]
     },
     "execution_count": 22,
     "metadata": {},
     "output_type": "execute_result"
    }
   ],
   "source": [
    "# lr\n",
    "\n",
    "# fmt: off\n",
    "param_grid = {\n",
    "    # \"tfidfvectorizer__max_features\": [None, 1000, 5000, 10000, 20000],\n",
    "    # \"tfidfvectorizer__ngram_range\": [(1, 1), (1, 2), (1, 3)],\n",
    "    # \"tfidfvectorizer__max_df\": [0.60, 0.65, 0.70, 0.75, 0.80, 0.90, 1],\n",
    "    \"onevsrestclassifier__estimator__solver\": [\"lbfgs\", \"liblinear\", \"newton-cg\", \"saga\", \"sag\"],\n",
    "    \"onevsrestclassifier__estimator__C\": [100, 10, 1.0, 0.1, 0.01],\n",
    "    \"onevsrestclassifier__estimator__penalty\": [\"l2\"],\n",
    "}\n",
    "# fmt: on\n",
    "\n",
    "n_jobs = -1\n",
    "\n",
    "grid_search = GridSearchCV(\n",
    "    tfidf_lr_clf,\n",
    "    param_grid,\n",
    "    cv=cv,\n",
    "    scoring=\"f1_micro\",  # \"f1_weighted\"\n",
    "    return_train_score=True,\n",
    "    n_jobs=n_jobs,\n",
    "    verbose=1,\n",
    ")\n",
    "\n",
    "grid_search.fit(x_cv, y_cv)\n",
    "\n",
    "print(grid_search.best_params_)\n",
    "print(grid_search.best_score_)\n",
    "# print(grid_search.cv_results_)\n",
    "\n",
    "best_model = grid_search.best_estimator_\n",
    "train_predict_evaluate(best_model)"
   ]
  },
  {
   "cell_type": "code",
   "execution_count": null,
   "id": "2951da27-d9a1-441b-8bff-c35908308c48",
   "metadata": {},
   "outputs": [],
   "source": []
  },
  {
   "cell_type": "code",
   "execution_count": null,
   "id": "aa2fbb38-6e88-4f3a-b000-ea4eefc6c1af",
   "metadata": {},
   "outputs": [],
   "source": [
    "# svm\n",
    "\n",
    "# fmt: off\n",
    "param_grid = {\n",
    "    # \"tfidfvectorizer__max_features\": [None, 1000, 5000, 10000, 20000],\n",
    "    # \"tfidfvectorizer__ngram_range\": [(1, 1), (1, 2), (1, 3)],\n",
    "    # \"tfidfvectorizer__max_df\": [0.60, 0.65, 0.70, 0.75, 0.80, 0.90, 1],\n",
    "    # \"onevsrestclassifier__estimator__solver\": [\"lbfgs\", \"liblinear\", \"newton-cg\", \"saga\", \"sag\"],\n",
    "    \"onevsrestclassifier__estimator__C\": [100, 10, 1.0, 0.1, 0.01],\n",
    "    \"onevsrestclassifier__estimator__penalty\": [\"l2\"],\n",
    "}\n",
    "# fmt: on\n",
    "\n",
    "n_jobs = -1\n",
    "\n",
    "grid_search = GridSearchCV(\n",
    "    tfidf_lr_svm,\n",
    "    param_grid,\n",
    "    cv=cv,\n",
    "    scoring=\"f1_micro\",  # \"f1_weighted\"\n",
    "    return_train_score=True,\n",
    "    n_jobs=n_jobs,\n",
    "    verbose=1,\n",
    ")\n",
    "\n",
    "grid_search.fit(x_cv, y_cv)\n",
    "\n",
    "print(grid_search.best_params_)\n",
    "print(grid_search.best_score_)\n",
    "# print(grid_search.cv_results_)\n",
    "\n",
    "best_model = grid_search.best_estimator_\n",
    "train_predict_evaluate(best_model)"
   ]
  },
  {
   "cell_type": "code",
   "execution_count": null,
   "id": "0ee11d70-e101-4faa-9413-76a7f1cdeaee",
   "metadata": {},
   "outputs": [],
   "source": []
  },
  {
   "cell_type": "markdown",
   "id": "073600b4-5df2-4a05-b140-36e9352b8806",
   "metadata": {},
   "source": [
    "## Save"
   ]
  },
  {
   "cell_type": "code",
   "execution_count": 31,
   "id": "3bca32ec-4cd0-460d-8e46-6f920ce11321",
   "metadata": {},
   "outputs": [],
   "source": [
    "import pickle\n",
    "\n",
    "saved_model_path = \"/home/bhuang/icd_10/outputs/tfidf_lr/synthetic/model_tfidf_lr.pkl\"\n",
    "\n",
    "os.makedirs(os.path.dirname(saved_model_path), exist_ok=True)\n",
    "with open(saved_model_path, \"wb\") as fo:\n",
    "    pickle.dump(clf, fo)"
   ]
  },
  {
   "cell_type": "code",
   "execution_count": null,
   "id": "0e1c878c-436b-4e2f-83a6-56117bcf95f3",
   "metadata": {},
   "outputs": [],
   "source": []
  },
  {
   "cell_type": "code",
   "execution_count": 32,
   "id": "25596ab3-323e-48c1-b6cc-a91c88be7b51",
   "metadata": {},
   "outputs": [],
   "source": [
    "# reload\n",
    "model_path = saved_model_path\n",
    "\n",
    "with open(model_path, \"rb\") as f:\n",
    "    loaded_model = pickle.load(f)"
   ]
  },
  {
   "cell_type": "code",
   "execution_count": null,
   "id": "191ac1ba-9643-4bf6-81d2-5d43cb57e4d4",
   "metadata": {},
   "outputs": [],
   "source": []
  },
  {
   "cell_type": "markdown",
   "id": "7d70f450-d40e-48ca-aee6-58b299026d45",
   "metadata": {},
   "source": [
    "## Predict"
   ]
  },
  {
   "cell_type": "code",
   "execution_count": 36,
   "id": "0216d6c0-4081-4fd1-8fb1-8a0e9769526e",
   "metadata": {},
   "outputs": [
    {
     "data": {
      "text/plain": [
       "array([[2.76256692e-04, 7.80984995e-05, 5.17009845e-05, 2.24112679e-04,\n",
       "        2.00080363e-04, 8.88702360e-05, 1.51310964e-04, 4.83799483e-06,\n",
       "        2.87879608e-05, 1.64712768e-04, 1.39005550e-04, 1.02794725e-04,\n",
       "        1.69949373e-03, 1.54932323e-03, 7.45279109e-04, 1.69176379e-04,\n",
       "        3.24393985e-03, 1.17241979e-04, 4.66060211e-04, 6.68332741e-04,\n",
       "        6.37089513e-04, 2.39238340e-04, 3.00119058e-04, 3.59374971e-04,\n",
       "        4.29008353e-04, 4.06532124e-04, 2.00388149e-04, 3.11414806e-04,\n",
       "        1.49106030e-03, 1.89561116e-03, 7.46730579e-06, 4.35300637e-04,\n",
       "        1.39169549e-05, 9.03497926e-05, 1.15189075e-03, 7.08509261e-04,\n",
       "        1.42294859e-04, 1.31733963e-05, 2.93105489e-04, 7.52742366e-05,\n",
       "        3.10601473e-03, 3.28513726e-04, 1.01357977e-04, 1.09288343e-05,\n",
       "        4.96619956e-05, 1.66777119e-06, 6.56802115e-06, 5.35894883e-06,\n",
       "        2.33121726e-05, 6.03850076e-04, 3.90037873e-05, 5.61263242e-05,\n",
       "        1.29198861e-05, 3.31508616e-05, 2.42528260e-03, 2.04200424e-04,\n",
       "        3.69712659e-04, 6.00249840e-04, 2.23834400e-04, 1.35737973e-03,\n",
       "        1.75308227e-04, 2.67205319e-04, 7.63740948e-06, 4.56521968e-05,\n",
       "        4.53237198e-05, 7.48072873e-05, 1.86412023e-04, 2.40315437e-04,\n",
       "        1.58025883e-04, 4.68694422e-05, 1.03659309e-03, 1.14562679e-04,\n",
       "        3.37716941e-05, 2.54269724e-05, 5.56285750e-04, 1.03816709e-04,\n",
       "        1.03159977e-05, 7.81937498e-04, 4.22503056e-05, 1.18973897e-04,\n",
       "        1.97659320e-05, 5.95064755e-05, 8.99326377e-04, 1.53275812e-05,\n",
       "        7.55576362e-05, 4.33025460e-05, 2.03566039e-04, 1.63863814e-04,\n",
       "        5.94755467e-05, 2.89062608e-05, 1.12759995e-05, 4.31951315e-03,\n",
       "        2.43412097e-05, 8.67865254e-05, 2.62286635e-05, 4.43117429e-04,\n",
       "        4.27848475e-05, 2.92559988e-05, 1.06444000e-05, 1.79382098e-05,\n",
       "        1.13069299e-05, 2.24704435e-05, 1.40065400e-04, 6.30602895e-04,\n",
       "        2.97272402e-04, 3.11660899e-04, 3.54902695e-05, 1.13693097e-05,\n",
       "        4.62750185e-05, 1.89300634e-05, 3.73551443e-05, 8.96986705e-05,\n",
       "        8.52736723e-06, 2.56433522e-05, 2.14950140e-04, 6.78941840e-06,\n",
       "        6.40612436e-05, 1.25066867e-04, 6.60139617e-05, 4.24669348e-05,\n",
       "        7.72845516e-05, 4.23356186e-04, 1.39335458e-05, 1.38448186e-04,\n",
       "        1.27516415e-04, 4.68112545e-04, 3.55748491e-05, 1.34752612e-04,\n",
       "        1.44678588e-04, 2.82728200e-04, 1.33381339e-04, 5.96667384e-05,\n",
       "        2.32946114e-05, 8.78690976e-05, 5.71957728e-05, 4.29470564e-05,\n",
       "        1.37613387e-05, 1.33250368e-04, 5.45418684e-05, 1.19285581e-05,\n",
       "        1.18767427e-05, 8.27702614e-06, 2.84754526e-05, 9.60119617e-05,\n",
       "        1.50980009e-04, 2.31599157e-05, 1.75031852e-05, 3.53407438e-05,\n",
       "        1.18113933e-05, 2.99690027e-05, 1.95838114e-06, 3.62411285e-05,\n",
       "        4.09869617e-06, 1.53132033e-05, 8.07515215e-05, 3.49761520e-05,\n",
       "        5.58864445e-05, 1.01647157e-03, 1.89234624e-04, 3.13989533e-06,\n",
       "        1.31737533e-04, 6.43183699e-05, 1.75581085e-05, 2.44431798e-05,\n",
       "        3.72999814e-05, 8.24330449e-06, 3.11286853e-04, 4.03181760e-04,\n",
       "        1.10435493e-06, 4.90086768e-04, 3.92886245e-05, 2.10005024e-06,\n",
       "        7.57613590e-03, 4.95077418e-05, 1.65065094e-05, 3.59335558e-05,\n",
       "        2.89370560e-05, 1.46190879e-05, 2.26217134e-05, 6.17639736e-06,\n",
       "        3.87324438e-05, 7.22549472e-05, 5.13463629e-05, 2.80960328e-05,\n",
       "        2.33665988e-05, 2.61226419e-05, 9.88001279e-06, 1.11372627e-05,\n",
       "        5.65789670e-05, 1.77332236e-04, 6.09087484e-05, 2.32401091e-05,\n",
       "        9.42665801e-05, 2.35019057e-04, 1.69529451e-05, 1.34808300e-04,\n",
       "        4.78754603e-05, 1.22987002e-04, 9.53595901e-04, 3.63059645e-05,\n",
       "        9.21258816e-05, 6.62721434e-04, 4.70785106e-05, 3.08174964e-04,\n",
       "        4.02262319e-05, 5.41525916e-05, 4.93066311e-04, 9.99996212e-01,\n",
       "        6.69159638e-02, 5.74883350e-03, 1.23545220e-01, 1.77185577e-02,\n",
       "        1.15265017e-04, 8.03795566e-06, 8.21810923e-04, 7.82073876e-05,\n",
       "        3.33736123e-05, 8.66984007e-05, 7.44429185e-05, 4.38449765e-05,\n",
       "        1.31792797e-05, 6.30350238e-05, 2.56876380e-05, 6.79828296e-04,\n",
       "        1.25272292e-03, 1.31260972e-04, 1.04894736e-04, 2.98860159e-04,\n",
       "        3.51863339e-04, 3.43061146e-04, 1.45706944e-03, 3.96615472e-05,\n",
       "        6.84030890e-06, 5.21617319e-05, 1.12049931e-05, 1.13518853e-05,\n",
       "        1.44388352e-04, 1.28681008e-05, 7.44923130e-05, 6.61934871e-05,\n",
       "        1.29322465e-04, 1.33111801e-04, 2.94752773e-05, 1.50251869e-04,\n",
       "        5.46984351e-06, 6.17994678e-04, 9.07629362e-05, 6.01704061e-05,\n",
       "        1.69319654e-05, 1.74652197e-05, 7.08633080e-05, 5.75717915e-05,\n",
       "        4.37800883e-05, 1.94416288e-05, 3.61079960e-05, 3.88653195e-05,\n",
       "        9.38451377e-05, 1.22490675e-04, 1.89274893e-03, 6.48602159e-05,\n",
       "        5.61987205e-05, 1.68951342e-04, 2.97160040e-04, 3.64028823e-04,\n",
       "        1.64981480e-04, 2.67837190e-05, 3.64599517e-06, 3.15732755e-05,\n",
       "        2.27449204e-05, 3.29290870e-05, 3.72093134e-05, 1.75563555e-05,\n",
       "        3.18091729e-05, 3.56467964e-05, 3.93558744e-05, 1.24773999e-04,\n",
       "        6.69703261e-05, 2.91580431e-05, 2.82057219e-05, 3.53569697e-04,\n",
       "        1.03462235e-04, 3.12401025e-04, 6.24826752e-04, 8.47901630e-05,\n",
       "        5.37364294e-04, 3.66758180e-04, 5.29263073e-05, 1.90207156e-05,\n",
       "        3.98115930e-04, 1.32340629e-04, 2.38701145e-05, 4.61906431e-04,\n",
       "        8.58023800e-05, 1.54747881e-04, 1.33567110e-05, 3.50100052e-05,\n",
       "        5.02562118e-05, 2.62020970e-04, 7.58348751e-04, 2.28064312e-05,\n",
       "        6.67496911e-05, 2.09851241e-05, 2.01432786e-05, 5.03520849e-05,\n",
       "        5.35387163e-05, 2.40577638e-04, 2.54402343e-06, 2.24673495e-04,\n",
       "        5.57724136e-04, 9.38031322e-06, 1.43989176e-05, 3.46371112e-05,\n",
       "        4.93809079e-05, 7.98951055e-05, 3.90639841e-03, 9.96573194e-06,\n",
       "        4.10236829e-05, 2.88339521e-05, 7.51740044e-05, 2.05468102e-05,\n",
       "        2.07470208e-04, 1.47969770e-06, 6.37152751e-06, 1.88382127e-05,\n",
       "        3.31514028e-05, 8.89140183e-06, 1.21742632e-04, 4.25683257e-05,\n",
       "        3.15935638e-06, 4.24759081e-05, 3.07715177e-04, 2.49791023e-05,\n",
       "        1.11810400e-05, 5.51941755e-05, 1.84790733e-04, 2.81857690e-05,\n",
       "        8.68832901e-05, 5.84502893e-05, 6.04867046e-05, 1.30420077e-04,\n",
       "        1.22324042e-04, 3.23306945e-05, 7.82056933e-06, 5.81107817e-06,\n",
       "        1.66683072e-05, 1.50143042e-04, 1.53098889e-03, 7.78305428e-06,\n",
       "        2.42266725e-04, 2.54532299e-05, 1.18223504e-04, 6.01649024e-05,\n",
       "        5.43167331e-05, 4.83648966e-05, 8.85946469e-05, 1.16066306e-04,\n",
       "        5.03798983e-05, 5.74605736e-05, 3.57416421e-04, 4.40481209e-05,\n",
       "        6.15558881e-05, 3.10020114e-05, 6.55171698e-05, 1.49818387e-04,\n",
       "        2.05181469e-05, 1.25515996e-04, 5.56799442e-06, 1.95569924e-05,\n",
       "        3.58846663e-04, 5.78481229e-05, 2.13828426e-04, 1.49604408e-04,\n",
       "        1.86277205e-05, 7.14318884e-05, 4.23026565e-04, 1.62130584e-04,\n",
       "        4.59568605e-05, 4.90684012e-04, 1.92711143e-04, 2.03819152e-04,\n",
       "        2.26007133e-04, 9.02443349e-05, 9.55140368e-05, 4.22643467e-05,\n",
       "        6.47090991e-05, 3.53929770e-05, 9.48023414e-04, 5.02472804e-05,\n",
       "        3.98742114e-05, 2.77796224e-05, 4.40999232e-05, 5.01812011e-04,\n",
       "        1.15419728e-05, 2.74015139e-05, 4.55420580e-05, 2.66039059e-05,\n",
       "        5.65423804e-04, 6.64429229e-05, 6.23275479e-06, 5.30848636e-05,\n",
       "        6.12845940e-05, 1.07421336e-04, 1.11594581e-05, 1.26058170e-04,\n",
       "        3.02272506e-05, 1.15848100e-04, 6.39250974e-06, 7.96630549e-05,\n",
       "        7.07188077e-05, 1.70628240e-04, 3.49393023e-05, 1.38692945e-05,\n",
       "        3.18985679e-05, 2.73330281e-05, 8.41909462e-05, 4.03813368e-05,\n",
       "        2.66770172e-05, 1.68690950e-05, 1.95708519e-04, 3.93202698e-06,\n",
       "        1.53300319e-04, 2.09655865e-05, 4.34098880e-05, 2.23393673e-04,\n",
       "        5.57161762e-06, 3.51707971e-06, 4.09739681e-05, 1.52677357e-06,\n",
       "        1.44500647e-04, 8.71658888e-05, 1.35076303e-04, 3.99078963e-05,\n",
       "        8.91339949e-06, 3.00808955e-05, 2.80809332e-05, 7.90089374e-05,\n",
       "        1.91545931e-05, 9.27238474e-06, 9.79832468e-05, 7.69480924e-06,\n",
       "        2.63951057e-04, 1.77366196e-04, 6.71223006e-05, 1.10709481e-04,\n",
       "        1.51460383e-05, 4.95829556e-05, 2.09912629e-06, 4.61131930e-05,\n",
       "        4.55208788e-04, 2.73776782e-05, 9.53991976e-05, 2.21348344e-04,\n",
       "        1.70386488e-04, 3.99716740e-05, 4.58005426e-04, 1.23926803e-04,\n",
       "        5.12888330e-05, 2.17894891e-03, 3.56795355e-04, 4.52338761e-05,\n",
       "        1.16759893e-04, 7.73558604e-05, 5.20149177e-04, 3.88302215e-05,\n",
       "        6.81987157e-04, 2.72622740e-05, 2.20094952e-05, 4.98479053e-05,\n",
       "        2.39486024e-05, 5.74268886e-05, 4.57469817e-05, 5.23911648e-04,\n",
       "        3.78921972e-05, 7.24987467e-06, 2.38916992e-05, 8.26919972e-03,\n",
       "        4.63751642e-04, 1.63173907e-05, 2.18001151e-05, 7.04258264e-05,\n",
       "        4.26835025e-04, 2.92129179e-06, 1.13611106e-04, 2.58136282e-05,\n",
       "        3.52946181e-05, 9.18718688e-06, 4.94810265e-05, 2.23605057e-05,\n",
       "        4.52885275e-05, 1.31409256e-04, 3.26992303e-05, 5.11263246e-05,\n",
       "        1.96842992e-05, 3.74145465e-05, 2.91298417e-05, 2.19526351e-05,\n",
       "        3.26648969e-05, 3.69242718e-05, 4.56342580e-05, 2.95418817e-05,\n",
       "        7.53203249e-06, 5.45967764e-06, 1.18877543e-05, 1.90818219e-05,\n",
       "        2.69043982e-05, 6.03239981e-05, 7.05611016e-05, 1.01360350e-04,\n",
       "        2.14700396e-05, 8.14600991e-05, 1.00725898e-04, 1.63691297e-04,\n",
       "        1.23477827e-06, 5.37722958e-04, 2.80689877e-05, 8.45372284e-04,\n",
       "        6.82453461e-05, 5.06158137e-06, 7.29650603e-06, 3.01706238e-04,\n",
       "        1.04507791e-04, 4.73042422e-05, 1.18449760e-05, 2.13220373e-04,\n",
       "        8.97926568e-07, 1.16538695e-04, 3.92846550e-05, 1.98534606e-05,\n",
       "        1.22238947e-05, 4.90185947e-03, 1.73606220e-02, 7.38132452e-05,\n",
       "        2.34774804e-04, 1.49640345e-04, 4.79027659e-04, 1.25029499e-04,\n",
       "        3.07655272e-03, 8.31809072e-05, 3.37089272e-04, 1.29635164e-04,\n",
       "        1.49749612e-04, 5.02328417e-05, 1.37161468e-04, 3.37465720e-05,\n",
       "        3.30976595e-05, 8.72096266e-04, 6.17430350e-05, 2.09419633e-04,\n",
       "        3.86513426e-04, 6.41455465e-04, 1.02982088e-04, 5.35942750e-05,\n",
       "        1.88545718e-03, 1.73971994e-04, 6.30167709e-05, 1.24073660e-05,\n",
       "        3.94859630e-06, 3.74984870e-05, 4.17524020e-05, 2.27322910e-05,\n",
       "        7.95497911e-05, 8.03116150e-05, 8.68843883e-05, 2.85407186e-05,\n",
       "        8.35098761e-06, 1.08518498e-04, 4.24841691e-05, 1.88954794e-04,\n",
       "        1.51009902e-05, 3.28334307e-06, 8.20577248e-06, 9.95893060e-05,\n",
       "        1.11278812e-04, 8.21523751e-05, 1.29095601e-05, 7.97914975e-05,\n",
       "        1.02944247e-05, 1.63479366e-03, 6.41257414e-05, 3.97376155e-04,\n",
       "        9.28309526e-06, 1.79960567e-03, 2.42071803e-05, 4.02043463e-05,\n",
       "        7.04546753e-05, 1.92049997e-05, 2.28277413e-05, 1.07358636e-05,\n",
       "        2.82540448e-05, 1.84660159e-05, 3.54442015e-05, 3.60173224e-04,\n",
       "        1.05640276e-05, 5.89882012e-05, 3.50633479e-05, 6.19532088e-05,\n",
       "        1.67238342e-04, 2.99685405e-06, 1.07177908e-04, 1.85710409e-05,\n",
       "        2.43308888e-05, 1.14608322e-05, 1.09215640e-04, 1.86881677e-05,\n",
       "        3.06754586e-05, 6.06788447e-05, 9.65999086e-04, 2.91377137e-04,\n",
       "        1.90711849e-05, 1.25608942e-04, 2.70869311e-05, 2.49140537e-04,\n",
       "        2.69348187e-06, 6.24788747e-05, 2.06231786e-04, 1.40227007e-04,\n",
       "        4.23723357e-05, 2.14490338e-05, 4.43849032e-04, 5.48844966e-05,\n",
       "        2.67016331e-05, 5.53901994e-05, 5.81292153e-06, 8.28121747e-06,\n",
       "        2.87598940e-05, 1.17657408e-04, 6.04510068e-05, 9.92625621e-05,\n",
       "        1.97648101e-05, 3.96650698e-05, 2.59048511e-04, 3.32519093e-05,\n",
       "        4.92226770e-06, 5.65675530e-05, 2.42450151e-05, 1.58216519e-05,\n",
       "        9.92236067e-05, 1.01667536e-05, 2.37246276e-05, 8.57040335e-06,\n",
       "        3.97332988e-05, 2.63228100e-04, 4.26350516e-05, 3.63694640e-05,\n",
       "        2.45439710e-04, 2.04156789e-04, 2.11058547e-04, 2.63444183e-05,\n",
       "        1.94236866e-05, 1.31938072e-05, 2.55013163e-05, 7.34988545e-05,\n",
       "        1.12857044e-04, 1.10771461e-04, 1.63148936e-04, 6.39054771e-05,\n",
       "        2.17400094e-05, 1.88100783e-05, 1.67863881e-04, 6.36688230e-05,\n",
       "        2.09235262e-05, 2.40334620e-04, 4.38552148e-06, 2.12812117e-04,\n",
       "        5.38396347e-05, 2.14049908e-05, 8.89288773e-06, 3.30226108e-05,\n",
       "        5.85458160e-04, 3.60775529e-05, 1.06244372e-04, 1.86990795e-05,\n",
       "        2.70031780e-05, 2.68054308e-06, 3.13727260e-04, 1.38324165e-05,\n",
       "        5.71728580e-05, 2.98342463e-04, 2.23058772e-04, 1.69004681e-04,\n",
       "        1.90226578e-05, 6.88638184e-05, 1.48292296e-04, 3.03555994e-05,\n",
       "        4.95781682e-05, 1.18807612e-03, 1.55136150e-03, 6.63532705e-05,\n",
       "        6.38492215e-05, 3.40430634e-05, 1.99021797e-04, 2.70822785e-05,\n",
       "        4.24535617e-04, 1.31116585e-05, 7.71916717e-05, 2.12651533e-05,\n",
       "        1.05926526e-04, 2.74197241e-05, 3.66382913e-05, 7.81838852e-06,\n",
       "        8.40027275e-05, 2.69380496e-05, 1.57715842e-04, 2.59216635e-04,\n",
       "        8.18113605e-06, 3.19352295e-06, 2.62233655e-06, 1.17327005e-05,\n",
       "        2.56847066e-05, 9.82846288e-06, 6.97843495e-05, 4.23503814e-05,\n",
       "        6.88706504e-05, 5.42522963e-04, 3.43021116e-05, 3.85980765e-06,\n",
       "        2.76086662e-06, 9.88785780e-05, 2.71483972e-05, 1.65871308e-05,\n",
       "        7.75789495e-05, 2.37343277e-05, 1.13977581e-04, 2.76551074e-05,\n",
       "        6.96683183e-05, 6.19569997e-05, 5.19497212e-05, 4.80178189e-04,\n",
       "        2.16385899e-06, 3.37572010e-04, 1.86827867e-04, 1.14284507e-02,\n",
       "        3.26233326e-05, 7.20909765e-05, 1.36404602e-04, 8.14773278e-05,\n",
       "        1.12263841e-04, 1.04692308e-04, 1.20719616e-04, 4.22754656e-05,\n",
       "        4.01043105e-04, 7.17839814e-05, 1.71242978e-04, 4.26330283e-05,\n",
       "        3.61603821e-05, 4.21759045e-05, 2.31436768e-04, 5.25367984e-04,\n",
       "        8.24775905e-05, 1.20813097e-04, 9.12727854e-05, 2.10446391e-05,\n",
       "        2.88039661e-04, 9.17707210e-05, 1.78835159e-05, 4.65888498e-05,\n",
       "        3.44773289e-06, 4.90347515e-04, 4.09950016e-05, 1.13433887e-04,\n",
       "        1.63653953e-03, 7.23791916e-05, 6.18804855e-05, 1.24091531e-04,\n",
       "        3.89055760e-05, 2.08263969e-04, 6.62607826e-05, 3.05174034e-05,\n",
       "        1.06179969e-04, 1.76250137e-04, 5.30724803e-05, 2.02085204e-05,\n",
       "        3.89886055e-04, 2.07124195e-04, 1.99055494e-04, 5.74058893e-04,\n",
       "        4.23958616e-04, 1.14316838e-03, 1.45230082e-03, 4.95674490e-05,\n",
       "        1.24017023e-05, 1.25893834e-05, 3.93272008e-05, 3.77656715e-04,\n",
       "        3.68621995e-05, 7.27180122e-06, 7.47260559e-06, 6.76860413e-05,\n",
       "        1.16707503e-04, 4.49921618e-05, 8.63546504e-06, 2.18409563e-05,\n",
       "        3.98427943e-04, 7.95324593e-05, 5.54031341e-05, 1.22065789e-04,\n",
       "        1.01316520e-04, 1.37188499e-05, 8.57595941e-05, 5.07331366e-06,\n",
       "        8.32098057e-06, 1.18430354e-04, 7.06081768e-05, 3.56426483e-05,\n",
       "        7.32360259e-05, 9.18288240e-06, 2.30129478e-05, 8.24823236e-05,\n",
       "        6.58394639e-04, 5.24723016e-05, 2.43326094e-05, 3.53600304e-05,\n",
       "        2.95912152e-05, 5.32856453e-04, 3.90890938e-05, 2.71559421e-05,\n",
       "        4.28534129e-05, 1.03599271e-05, 3.44315895e-05, 1.51262060e-04,\n",
       "        6.30586295e-05, 1.09119824e-05, 1.68750916e-04, 1.95724731e-05,\n",
       "        9.34608491e-06, 7.51221432e-06, 6.61485053e-05, 2.48339439e-04,\n",
       "        4.64086623e-05, 2.03778020e-06, 2.46798251e-03, 4.90588389e-05,\n",
       "        1.09555956e-04, 3.33718661e-04, 1.56561705e-05, 1.58315746e-04,\n",
       "        8.89925511e-04, 1.43964855e-05, 2.88909573e-04, 1.00585297e-05,\n",
       "        3.65933359e-06, 1.12237878e-04, 1.53078869e-03, 7.29180503e-05,\n",
       "        3.86778681e-05, 5.80705537e-04, 5.14338432e-05, 3.00014863e-04,\n",
       "        8.15823609e-05, 5.34565184e-05, 1.65850221e-04, 3.48556486e-05,\n",
       "        2.30185523e-04, 3.90183741e-05, 4.73025573e-05, 1.60660476e-04,\n",
       "        3.49625377e-06, 1.31522827e-05, 3.47768412e-06, 1.68751497e-04,\n",
       "        1.96484302e-04, 1.67309024e-05, 2.77580190e-05, 4.69213953e-03,\n",
       "        5.02326897e-05, 1.54189777e-04, 1.92438534e-05, 1.03235754e-04,\n",
       "        3.16031851e-05, 1.94136670e-04, 1.57997442e-05, 2.69057352e-05,\n",
       "        3.28159065e-04, 1.55237459e-04, 1.46903243e-05, 2.36135461e-05,\n",
       "        8.11823469e-05, 6.14064576e-05, 7.62165345e-04, 4.74065631e-05,\n",
       "        3.32234367e-05, 1.07387320e-04, 2.68391526e-04, 9.82905259e-05,\n",
       "        1.04008210e-05, 8.39639417e-05, 5.27621348e-05, 4.17383224e-05,\n",
       "        1.32403047e-05, 1.09694538e-04, 5.37652441e-05, 4.56288829e-04,\n",
       "        6.94531415e-05, 2.31698738e-01, 1.16923917e-05, 5.00348559e-04,\n",
       "        1.97912976e-04, 3.46091819e-05, 1.27176093e-05, 2.01315574e-05,\n",
       "        3.95494847e-04, 4.62158841e-05, 1.21600929e-05, 4.04660484e-04,\n",
       "        1.92856557e-05, 1.63873426e-05, 4.39617027e-05, 5.72699533e-05,\n",
       "        5.32782416e-05, 1.45392316e-04, 3.30463697e-05, 3.35859441e-05,\n",
       "        4.55310589e-05, 1.70104171e-05, 1.34330906e-04, 4.35682021e-05,\n",
       "        7.06694863e-05, 5.82723255e-04, 5.69151492e-05, 2.96037010e-05,\n",
       "        1.04569373e-05, 7.05088271e-03, 3.78723267e-05, 5.84942353e-05,\n",
       "        1.05183617e-04, 1.28544629e-02, 1.76397330e-04, 1.26363656e-03,\n",
       "        5.17394036e-06, 4.62281807e-07, 3.12384293e-05, 4.45152778e-06,\n",
       "        2.81642018e-05]])"
      ]
     },
     "execution_count": 36,
     "metadata": {},
     "output_type": "execute_result"
    }
   ],
   "source": [
    "text = \"\"\"### Discharge Summary\n",
    "\n",
    "**Patient: [Nom du patient]**\n",
    "**Date de naissance: [Date de naissance]**\n",
    "**Numéro de dossier: [Numéro de dossier]**\n",
    "**Date d'admission: [Date d'admission]**\n",
    "**Date de sortie: [Date de sortie]**\n",
    "\n",
    "**Raison de l'admission:**\n",
    "Le patient a été admis pour une évaluation et une prise en charge de symptômes récurrents d'infections respiratoires et cutanées. Le patient présente une histoire médicale complexe marquée par une susceptibilité accrue aux infections, suggérant une possible déficience immunitaire.\n",
    "\n",
    "**Historique médical:**\n",
    "Le patient a une longue histoire d'infections récurrentes, y compris des pneumonies et des infections cutanées. Les antécédents familiaux révèlent des cas similaires, ce qui renforce l'hypothèse d'une déficience immunitaire héréditaire.\n",
    "\n",
    "**Évaluation clinique:**\n",
    "Lors de l'admission, le patient présentait des symptômes de pneumonie, y compris une toux productive, une fièvre élevée et des douleurs thoraciques. L'examen physique a révélé des râles crépitants bilatéraux. Une éruption cutanée était également présente sur les bras et le dos, suggérant une infection bactérienne.\n",
    "\n",
    "**Résultats des examens:**\n",
    "Les analyses de laboratoire ont montré une diminution des taux d'immunoglobulines, en particulier les IgG, IgA et IgM. Les tests de fonction immunitaire ont également révélé une réponse anormale aux vaccins, indiquant une déficience dans la production d'anticorps.\n",
    "\n",
    "**Traitement et gestion:**\n",
    "Le patient a été traité avec des antibiotiques à large spectre pour les infections respiratoires et cutanées. Des immunoglobulines intraveineuses (IVIG) ont été initiées pour compenser la déficience en anticorps. Une consultation en immunologie a été demandée pour une évaluation plus approfondie et un plan de gestion à long terme.\n",
    "\n",
    "**Recommandations à la sortie:**\n",
    "Le patient doit continuer les traitements par IVIG selon le calendrier prescrit. Un suivi régulier avec un immunologue est nécessaire pour surveiller les taux d'immunoglobulines et ajuster le traitement si nécessaire. Le patient et sa famille ont été informés de l'importance de la vaccination et des mesures d'hygiène pour prévenir les infections.\n",
    "\n",
    "**Plan de suivi:**\n",
    "Un rendez-vous de suivi est prévu dans deux semaines avec le médecin traitant et l'immunologue. Des analyses de laboratoire seront répétées pour évaluer l'efficacité du traitement et ajuster les doses de IVIG si nécessaire.\n",
    "\n",
    "**Signature du médecin:**\n",
    "[Nom du médecin]\n",
    "[Titre du médecin]\n",
    "[Date]\"\"\"\n",
    "\n",
    "loaded_model.predict_proba([text])"
   ]
  },
  {
   "cell_type": "code",
   "execution_count": null,
   "id": "df791fce-a9a3-4eb1-b30c-3bfff5057f61",
   "metadata": {},
   "outputs": [],
   "source": []
  },
  {
   "cell_type": "code",
   "execution_count": null,
   "id": "03294aa3-15e9-4ccb-9a34-3be91e74b088",
   "metadata": {},
   "outputs": [],
   "source": []
  },
  {
   "cell_type": "code",
   "execution_count": null,
   "id": "329374e4-6945-470f-add9-9bd45fafcd43",
   "metadata": {},
   "outputs": [],
   "source": []
  }
 ],
 "metadata": {
  "kernelspec": {
   "display_name": "ocd-10",
   "language": "python",
   "name": "ocd-10"
  },
  "language_info": {
   "codemirror_mode": {
    "name": "ipython",
    "version": 3
   },
   "file_extension": ".py",
   "mimetype": "text/x-python",
   "name": "python",
   "nbconvert_exporter": "python",
   "pygments_lexer": "ipython3",
   "version": "3.10.14"
  }
 },
 "nbformat": 4,
 "nbformat_minor": 5
}
