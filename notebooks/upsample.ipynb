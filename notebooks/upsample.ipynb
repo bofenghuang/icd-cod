{
 "cells": [
  {
   "cell_type": "code",
   "execution_count": 1,
   "id": "d39302e7-2c81-45b6-8d54-907415e01d2d",
   "metadata": {},
   "outputs": [
    {
     "name": "stdout",
     "output_type": "stream",
     "text": [
      "The history saving thread hit an unexpected error (OperationalError('attempt to write a readonly database')).History will not be written to the database.\n"
     ]
    }
   ],
   "source": [
    "import os\n",
    "\n",
    "os.environ[\"HF_HOME\"] = \"/projects/bhuang/.cache/huggingface\"\n",
    "# os.environ[\"OMP_NUM_THREADS\"] = \"1\"\n",
    "os.environ[\"TOKENIZERS_PARALLELISM\"] = \"false\""
   ]
  },
  {
   "cell_type": "code",
   "execution_count": 2,
   "id": "4bb0a7f9-3940-467f-84d1-c99ccd46bd1e",
   "metadata": {},
   "outputs": [
    {
     "name": "stderr",
     "output_type": "stream",
     "text": [
      "/home/bhuang/anaconda3/envs/ocd-10/lib/python3.10/site-packages/tqdm/auto.py:21: TqdmWarning: IProgress not found. Please update jupyter and ipywidgets. See https://ipywidgets.readthedocs.io/en/stable/user_install.html\n",
      "  from .autonotebook import tqdm as notebook_tqdm\n"
     ]
    }
   ],
   "source": [
    "import numpy as np\n",
    "from datasets import load_dataset, Dataset"
   ]
  },
  {
   "cell_type": "code",
   "execution_count": null,
   "id": "8979b2f3-9286-4ddc-b634-05d0109d886b",
   "metadata": {},
   "outputs": [],
   "source": []
  },
  {
   "cell_type": "code",
   "execution_count": 3,
   "id": "3bb2257d-6dbc-4482-8ba2-25c2d0ae9619",
   "metadata": {},
   "outputs": [
    {
     "data": {
      "text/plain": [
       "Dataset({\n",
       "    features: ['text', 'has_diso', 'labels'],\n",
       "    num_rows: 1530\n",
       "})"
      ]
     },
     "execution_count": 3,
     "metadata": {},
     "output_type": "execute_result"
    }
   ],
   "source": [
    "data_files = [\n",
    "    \"/home/bhuang/icd_10/data/quaero_icd10_by_category_resplitted/drbenchmark_quaero-medline-train-cls-mistral_large_instruct_2407-processed.jsonl\",\n",
    "    \"/home/bhuang/icd_10/data/quaero_icd10_by_category_resplitted/drbenchmark_quaero-emea-train-cls-mistral_large_instruct_2407-processed.jsonl\",\n",
    "]\n",
    "\n",
    "dataset = load_dataset(\"json\", data_files=data_files, split=\"train\")\n",
    "# dataset = dataset.remove_columns([\"gen_configs\"])\n",
    "dataset"
   ]
  },
  {
   "cell_type": "code",
   "execution_count": 4,
   "id": "9a379ff2-a9b8-4b8c-8977-6aff49def4af",
   "metadata": {},
   "outputs": [
    {
     "data": {
      "text/plain": [
       "Dataset({\n",
       "    features: ['text', 'has_diso', 'labels'],\n",
       "    num_rows: 1530\n",
       "})"
      ]
     },
     "execution_count": 4,
     "metadata": {},
     "output_type": "execute_result"
    }
   ],
   "source": [
    "dataset.filter(lambda x: x[\"labels\"], num_proc=32)"
   ]
  },
  {
   "cell_type": "code",
   "execution_count": null,
   "id": "8d123824-c407-4e21-9f75-41521da499ad",
   "metadata": {},
   "outputs": [],
   "source": []
  },
  {
   "cell_type": "code",
   "execution_count": 14,
   "id": "c6d6f069-7f6b-48c5-85cc-80e4304a4856",
   "metadata": {},
   "outputs": [],
   "source": [
    "# flatten\n",
    "total_labels = sum(dataset[\"labels\"], [])\n",
    "# overall label frequecies\n",
    "label_freqs = dict(zip(*np.unique(total_labels, return_counts=True)))\n",
    "\n",
    "target_freq = max(label_freqs.values())\n",
    "# target_freq = 5"
   ]
  },
  {
   "cell_type": "code",
   "execution_count": null,
   "id": "fa565b29-9055-4382-aa0a-62fd7a8e4fdb",
   "metadata": {},
   "outputs": [],
   "source": []
  },
  {
   "cell_type": "code",
   "execution_count": 15,
   "id": "9301f27a-002a-4827-8710-50c33760aee1",
   "metadata": {},
   "outputs": [
    {
     "data": {
      "text/plain": [
       "Dataset({\n",
       "    features: ['text', 'has_diso', 'labels'],\n",
       "    num_rows: 35301\n",
       "})"
      ]
     },
     "execution_count": 15,
     "metadata": {},
     "output_type": "execute_result"
    }
   ],
   "source": [
    "# todo: other upsampmling methods other than duplication: add noise words, randomly delete words (tf-idf), paraphrasing, back translation\n",
    "\n",
    "data_df = dataset.to_pandas()\n",
    "data_df[\"labels\"] = data_df[\"labels\"].map(lambda x: x.tolist())\n",
    "data_lst = data_df.to_dict(\"records\")\n",
    "# len(data_lst)\n",
    "\n",
    "upsampled_data_lst = []\n",
    "for example in data_lst:\n",
    "    labels = example[\"labels\"]\n",
    "    if labels:\n",
    "        min_freq = min(label_freqs[l] for l in labels)\n",
    "        multiplier = max(int(target_freq / min_freq), 1)\n",
    "        upsampled_data_lst.extend([example] * multiplier)\n",
    "    else:\n",
    "        upsampled_data_lst.append(example)\n",
    "\n",
    "upsampled_dataset = Dataset.from_list(upsampled_data_lst)\n",
    "upsampled_dataset"
   ]
  },
  {
   "cell_type": "code",
   "execution_count": null,
   "id": "eab92181-4199-41ce-b7fe-264fbc0f0e0b",
   "metadata": {},
   "outputs": [],
   "source": []
  },
  {
   "cell_type": "code",
   "execution_count": 16,
   "id": "83999184-2149-4ba5-b36d-fba1645bd975",
   "metadata": {},
   "outputs": [
    {
     "name": "stderr",
     "output_type": "stream",
     "text": [
      "Creating json from Arrow format: 100%|██████████████████████████████████████████████████████████████████████████████████████████████| 36/36 [00:00<00:00, 341.31ba/s]\n"
     ]
    },
    {
     "data": {
      "text/plain": [
       "5393784"
      ]
     },
     "execution_count": 16,
     "metadata": {},
     "output_type": "execute_result"
    }
   ],
   "source": [
    "# output_file = \"/home/bhuang/icd_10/data/quaero_icd10_by_category_resplitted/drbenchmark_quaero-emea_medline-train-upsampled.jsonl\"\n",
    "output_file = f\"/home/bhuang/icd_10/data/quaero_icd10_by_category_resplitted/drbenchmark_quaero-emea_medline-train-upsampled{target_freq}.jsonl\"\n",
    "\n",
    "upsampled_dataset.to_json(output_file, orient=\"records\", lines=True, force_ascii=False)"
   ]
  },
  {
   "cell_type": "code",
   "execution_count": null,
   "id": "eaa98962-c416-4cc4-aaa1-0003b947db0c",
   "metadata": {},
   "outputs": [],
   "source": []
  }
 ],
 "metadata": {
  "kernelspec": {
   "display_name": "ocd-10",
   "language": "python",
   "name": "ocd-10"
  },
  "language_info": {
   "codemirror_mode": {
    "name": "ipython",
    "version": 3
   },
   "file_extension": ".py",
   "mimetype": "text/x-python",
   "name": "python",
   "nbconvert_exporter": "python",
   "pygments_lexer": "ipython3",
   "version": "3.10.14"
  }
 },
 "nbformat": 4,
 "nbformat_minor": 5
}
