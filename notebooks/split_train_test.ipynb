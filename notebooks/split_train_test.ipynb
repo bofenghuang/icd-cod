{
 "cells": [
  {
   "cell_type": "code",
   "execution_count": 1,
   "id": "b6339c8b-0b5e-4640-8caf-9358b00146b6",
   "metadata": {},
   "outputs": [],
   "source": [
    "import os\n",
    "\n",
    "os.environ[\"HF_HOME\"] = \"/projects/bhuang/.cache/huggingface\"\n",
    "# os.environ[\"OMP_NUM_THREADS\"] = \"1\"\n",
    "os.environ[\"TOKENIZERS_PARALLELISM\"] = \"false\""
   ]
  },
  {
   "cell_type": "code",
   "execution_count": 2,
   "id": "d3352d22-a907-46a7-8f25-f0a33dd4632c",
   "metadata": {},
   "outputs": [
    {
     "name": "stderr",
     "output_type": "stream",
     "text": [
      "/home/bhuang/anaconda3/envs/ocd-10/lib/python3.10/site-packages/tqdm/auto.py:21: TqdmWarning: IProgress not found. Please update jupyter and ipywidgets. See https://ipywidgets.readthedocs.io/en/stable/user_install.html\n",
      "  from .autonotebook import tqdm as notebook_tqdm\n"
     ]
    }
   ],
   "source": [
    "from datasets import load_dataset, DatasetDict"
   ]
  },
  {
   "cell_type": "code",
   "execution_count": null,
   "id": "39fb8d3f-c95f-4d47-a7c5-846dcfd2ff9b",
   "metadata": {},
   "outputs": [],
   "source": []
  },
  {
   "cell_type": "code",
   "execution_count": 3,
   "id": "63d9045a-31bb-47e9-bdc2-7e1cb81f8038",
   "metadata": {},
   "outputs": [],
   "source": [
    "input_files = {\n",
    "    # quaero medline\n",
    "    \"quaero_medline_train\": \"/home/bhuang/icd_10/data/quaero_icd10_by_category/drbenchmark_quaero-medline-train-cls-mistral_large_instruct_2407-processed.jsonl\",\n",
    "    \"quaero_medline_valid\": \"/home/bhuang/icd_10/data/quaero_icd10_by_category/drbenchmark_quaero-medline-validation-cls-mistral_large_instruct_2407-processed.jsonl\",\n",
    "    \"quaero_medline_test\": \"/home/bhuang/icd_10/data/quaero_icd10_by_category/drbenchmark_quaero-medline-test-cls-mistral_large_instruct_2407-processed.jsonl\",\n",
    "    # quaero emea\n",
    "    \"quaero_emea_train\": \"/home/bhuang/icd_10/data/quaero_icd10_by_category/drbenchmark_quaero-emea-train-cls-mistral_large_instruct_2407-processed.jsonl\",\n",
    "    \"quaero_emea_valid\": \"/home/bhuang/icd_10/data/quaero_icd10_by_category/drbenchmark_quaero-emea-validation-cls-mistral_large_instruct_2407-processed.jsonl\",\n",
    "    \"quaero_emea_test\": \"/home/bhuang/icd_10/data/quaero_icd10_by_category/drbenchmark_quaero-emea-test-cls-mistral_large_instruct_2407-processed.jsonl\",\n",
    "}"
   ]
  },
  {
   "cell_type": "code",
   "execution_count": 17,
   "id": "62fba792-0285-471c-9b86-09e02722af00",
   "metadata": {},
   "outputs": [
    {
     "data": {
      "text/plain": [
       "Dataset({\n",
       "    features: ['text', 'has_diso', 'labels'],\n",
       "    num_rows: 2374\n",
       "})"
      ]
     },
     "execution_count": 17,
     "metadata": {},
     "output_type": "execute_result"
    }
   ],
   "source": [
    "input_files_ = [v for k, v in input_files.items() if \"medline\" in k]\n",
    "# input_files_ = [v for k, v in input_files.items() if \"emea\" in k]\n",
    "\n",
    "dataset = load_dataset(\"json\", data_files=input_files_, split=\"train\")\n",
    "dataset"
   ]
  },
  {
   "cell_type": "code",
   "execution_count": 18,
   "id": "7b708b4d-1056-4d0b-b184-8306cf49e85b",
   "metadata": {},
   "outputs": [
    {
     "data": {
      "text/plain": [
       "Dataset({\n",
       "    features: ['text', 'has_diso', 'labels'],\n",
       "    num_rows: 1867\n",
       "})"
      ]
     },
     "execution_count": 18,
     "metadata": {},
     "output_type": "execute_result"
    }
   ],
   "source": [
    "# keep only text w/ labels\n",
    "dataset = dataset.filter(lambda x: x[\"labels\"], num_proc=8)\n",
    "dataset"
   ]
  },
  {
   "cell_type": "code",
   "execution_count": null,
   "id": "83aa340d-c2b7-42d5-981e-94a9480d2c34",
   "metadata": {},
   "outputs": [],
   "source": []
  },
  {
   "cell_type": "code",
   "execution_count": 19,
   "id": "3faa5825-a9a5-432d-ba76-20f21c2c8e12",
   "metadata": {},
   "outputs": [
    {
     "data": {
      "text/plain": [
       "DatasetDict({\n",
       "    train: Dataset({\n",
       "        features: ['text', 'has_diso', 'labels'],\n",
       "        num_rows: 1493\n",
       "    })\n",
       "    validation: Dataset({\n",
       "        features: ['text', 'has_diso', 'labels'],\n",
       "        num_rows: 187\n",
       "    })\n",
       "    test: Dataset({\n",
       "        features: ['text', 'has_diso', 'labels'],\n",
       "        num_rows: 187\n",
       "    })\n",
       "})"
      ]
     },
     "execution_count": 19,
     "metadata": {},
     "output_type": "execute_result"
    }
   ],
   "source": [
    "train_testvalid = dataset.train_test_split(test_size=0.2)  # , stratify_by_column=\"labels\")\n",
    "test_valid = train_testvalid['test'].train_test_split(test_size=0.5)\n",
    "new_dataset = DatasetDict({\n",
    "    'train': train_testvalid['train'],\n",
    "    'validation': test_valid['train'],\n",
    "    'test': test_valid['test']\n",
    "})\n",
    "new_dataset"
   ]
  },
  {
   "cell_type": "code",
   "execution_count": null,
   "id": "d9cc6820-da6c-4100-8623-348076f5e447",
   "metadata": {},
   "outputs": [],
   "source": []
  },
  {
   "cell_type": "code",
   "execution_count": 20,
   "id": "d4524b27-b706-4152-89b4-52b4ed15fc93",
   "metadata": {},
   "outputs": [
    {
     "name": "stderr",
     "output_type": "stream",
     "text": [
      "Creating json from Arrow format: 100%|██████████████████████████████████████████████████████████████████████████████████████████████████| 2/2 [00:00<00:00, 119.54ba/s]\n",
      "Creating json from Arrow format: 100%|██████████████████████████████████████████████████████████████████████████████████████████████████| 1/1 [00:00<00:00, 346.04ba/s]\n",
      "Creating json from Arrow format: 100%|██████████████████████████████████████████████████████████████████████████████████████████████████| 1/1 [00:00<00:00, 364.09ba/s]\n"
     ]
    }
   ],
   "source": [
    "for name, ds in new_dataset.items():\n",
    "    output_file = f\"/home/bhuang/icd_10/data/quaero_icd10_by_category_resplitted_new/drbenchmark_quaero-medline-{name}-cls-mistral_large_instruct_2407-processed.jsonl\"\n",
    "    # output_file = f\"/home/bhuang/icd_10/data/quaero_icd10_by_category_resplitted_new/drbenchmark_quaero-emea-{name}-cls-mistral_large_instruct_2407-processed.jsonl\"\n",
    "    \n",
    "    os.makedirs(os.path.dirname(output_file), exist_ok=True)\n",
    "    ds.to_json(output_file, orient=\"records\", lines=True, force_ascii=False)"
   ]
  },
  {
   "cell_type": "code",
   "execution_count": null,
   "id": "bec5ab4a-1407-4e46-936f-bb5c21ff308e",
   "metadata": {},
   "outputs": [],
   "source": []
  }
 ],
 "metadata": {
  "kernelspec": {
   "display_name": "ocd-10",
   "language": "python",
   "name": "ocd-10"
  },
  "language_info": {
   "codemirror_mode": {
    "name": "ipython",
    "version": 3
   },
   "file_extension": ".py",
   "mimetype": "text/x-python",
   "name": "python",
   "nbconvert_exporter": "python",
   "pygments_lexer": "ipython3",
   "version": "3.10.14"
  }
 },
 "nbformat": 4,
 "nbformat_minor": 5
}
